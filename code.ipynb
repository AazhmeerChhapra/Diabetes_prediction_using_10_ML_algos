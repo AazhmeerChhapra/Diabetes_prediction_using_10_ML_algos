{
 "cells": [
  {
   "cell_type": "code",
   "execution_count": 2,
   "metadata": {},
   "outputs": [],
   "source": [
    "#Importing Relevant Libraries\n",
    "import pandas as pd\n",
    "import numpy as np\n",
    "import matplotlib.pyplot as plt\n",
    "import seaborn as sns\n",
    "import pickle\n",
    "sns.set()\n",
    "from sklearn.model_selection import train_test_split\n",
    "from sklearn.linear_model import LogisticRegression\n",
    "from sklearn.naive_bayes import GaussianNB\n",
    "from sklearn.svm import SVC\n",
    "from sklearn.ensemble import RandomForestClassifier\n",
    "from sklearn.tree import DecisionTreeClassifier\n",
    "import xgboost as xgb\n",
    "import lightgbm as lgb\n",
    "from sklearn.neural_network import MLPClassifier\n",
    "from sklearn.ensemble import AdaBoostClassifier\n",
    "from sklearn.discriminant_analysis import QuadraticDiscriminantAnalysis\n",
    "from sklearn.metrics import accuracy_score, confusion_matrix, f1_score, classification_report\n",
    "from sklearn.model_selection import KFold\n"
   ]
  },
  {
   "cell_type": "code",
   "execution_count": 3,
   "metadata": {},
   "outputs": [],
   "source": [
    "raw_data = pd.read_csv('diabetes_dataset.csv')"
   ]
  },
  {
   "attachments": {},
   "cell_type": "markdown",
   "metadata": {},
   "source": [
    "Data Preprocessing"
   ]
  },
  {
   "cell_type": "code",
   "execution_count": 29,
   "metadata": {},
   "outputs": [
    {
     "data": {
      "text/plain": [
       "gender                 0\n",
       "age                    0\n",
       "hypertension           0\n",
       "heart_disease          0\n",
       "smoking_history        0\n",
       "bmi                    0\n",
       "HbA1c_level            0\n",
       "blood_glucose_level    0\n",
       "diabetes               0\n",
       "dtype: int64"
      ]
     },
     "execution_count": 29,
     "metadata": {},
     "output_type": "execute_result"
    }
   ],
   "source": [
    "#checking for null values\n",
    "raw_data.isnull().sum()"
   ]
  },
  {
   "cell_type": "code",
   "execution_count": 4,
   "metadata": {},
   "outputs": [
    {
     "data": {
      "text/plain": [
       "array(['ever', 'never', 'current', 'No Info', 'former', 'not current'],\n",
       "      dtype=object)"
      ]
     },
     "execution_count": 4,
     "metadata": {},
     "output_type": "execute_result"
    }
   ],
   "source": [
    "raw_data['smoking_history'].unique()"
   ]
  },
  {
   "cell_type": "code",
   "execution_count": 5,
   "metadata": {},
   "outputs": [],
   "source": [
    "raw_data['gender'] = raw_data['gender'].map({'Female':0, 'Male':1, 'Other':2})"
   ]
  },
  {
   "cell_type": "code",
   "execution_count": 6,
   "metadata": {},
   "outputs": [],
   "source": [
    "raw_data['smoking_history']  = raw_data['smoking_history'].map({'current':0, 'ever':1, 'former':2, 'never':3, 'No Info':4, 'not current':5})"
   ]
  },
  {
   "cell_type": "code",
   "execution_count": 7,
   "metadata": {},
   "outputs": [],
   "source": [
    "#checking for infinity values\n",
    "infinities = np.any(np.isinf(raw_data))"
   ]
  },
  {
   "cell_type": "code",
   "execution_count": 8,
   "metadata": {},
   "outputs": [
    {
     "name": "stdout",
     "output_type": "stream",
     "text": [
      "False\n"
     ]
    }
   ],
   "source": [
    "print(infinities)"
   ]
  },
  {
   "cell_type": "code",
   "execution_count": 35,
   "metadata": {},
   "outputs": [
    {
     "data": {
      "text/html": [
       "<div>\n",
       "<style scoped>\n",
       "    .dataframe tbody tr th:only-of-type {\n",
       "        vertical-align: middle;\n",
       "    }\n",
       "\n",
       "    .dataframe tbody tr th {\n",
       "        vertical-align: top;\n",
       "    }\n",
       "\n",
       "    .dataframe thead th {\n",
       "        text-align: right;\n",
       "    }\n",
       "</style>\n",
       "<table border=\"1\" class=\"dataframe\">\n",
       "  <thead>\n",
       "    <tr style=\"text-align: right;\">\n",
       "      <th></th>\n",
       "      <th>gender</th>\n",
       "      <th>age</th>\n",
       "      <th>hypertension</th>\n",
       "      <th>heart_disease</th>\n",
       "      <th>smoking_history</th>\n",
       "      <th>bmi</th>\n",
       "      <th>HbA1c_level</th>\n",
       "      <th>blood_glucose_level</th>\n",
       "      <th>diabetes</th>\n",
       "    </tr>\n",
       "  </thead>\n",
       "  <tbody>\n",
       "    <tr>\n",
       "      <th>count</th>\n",
       "      <td>18700.000000</td>\n",
       "      <td>18700.000000</td>\n",
       "      <td>18700.000000</td>\n",
       "      <td>18700.000000</td>\n",
       "      <td>18700.000000</td>\n",
       "      <td>18700.000000</td>\n",
       "      <td>18700.000000</td>\n",
       "      <td>18700.000000</td>\n",
       "      <td>18700.000000</td>\n",
       "    </tr>\n",
       "    <tr>\n",
       "      <th>mean</th>\n",
       "      <td>0.438717</td>\n",
       "      <td>49.708083</td>\n",
       "      <td>0.142888</td>\n",
       "      <td>0.082888</td>\n",
       "      <td>2.908556</td>\n",
       "      <td>29.203025</td>\n",
       "      <td>6.095444</td>\n",
       "      <td>160.461070</td>\n",
       "      <td>0.454545</td>\n",
       "    </tr>\n",
       "    <tr>\n",
       "      <th>std</th>\n",
       "      <td>0.496459</td>\n",
       "      <td>21.756392</td>\n",
       "      <td>0.349968</td>\n",
       "      <td>0.275720</td>\n",
       "      <td>1.327645</td>\n",
       "      <td>7.352430</td>\n",
       "      <td>1.277635</td>\n",
       "      <td>55.972938</td>\n",
       "      <td>0.497943</td>\n",
       "    </tr>\n",
       "    <tr>\n",
       "      <th>min</th>\n",
       "      <td>0.000000</td>\n",
       "      <td>0.080000</td>\n",
       "      <td>0.000000</td>\n",
       "      <td>0.000000</td>\n",
       "      <td>0.000000</td>\n",
       "      <td>10.010000</td>\n",
       "      <td>3.500000</td>\n",
       "      <td>80.000000</td>\n",
       "      <td>0.000000</td>\n",
       "    </tr>\n",
       "    <tr>\n",
       "      <th>25%</th>\n",
       "      <td>0.000000</td>\n",
       "      <td>34.000000</td>\n",
       "      <td>0.000000</td>\n",
       "      <td>0.000000</td>\n",
       "      <td>2.000000</td>\n",
       "      <td>25.660000</td>\n",
       "      <td>5.700000</td>\n",
       "      <td>130.000000</td>\n",
       "      <td>0.000000</td>\n",
       "    </tr>\n",
       "    <tr>\n",
       "      <th>50%</th>\n",
       "      <td>0.000000</td>\n",
       "      <td>53.000000</td>\n",
       "      <td>0.000000</td>\n",
       "      <td>0.000000</td>\n",
       "      <td>3.000000</td>\n",
       "      <td>27.320000</td>\n",
       "      <td>6.100000</td>\n",
       "      <td>155.000000</td>\n",
       "      <td>0.000000</td>\n",
       "    </tr>\n",
       "    <tr>\n",
       "      <th>75%</th>\n",
       "      <td>1.000000</td>\n",
       "      <td>67.000000</td>\n",
       "      <td>0.000000</td>\n",
       "      <td>0.000000</td>\n",
       "      <td>4.000000</td>\n",
       "      <td>32.420000</td>\n",
       "      <td>6.600000</td>\n",
       "      <td>160.000000</td>\n",
       "      <td>1.000000</td>\n",
       "    </tr>\n",
       "    <tr>\n",
       "      <th>max</th>\n",
       "      <td>2.000000</td>\n",
       "      <td>80.000000</td>\n",
       "      <td>1.000000</td>\n",
       "      <td>1.000000</td>\n",
       "      <td>5.000000</td>\n",
       "      <td>88.720000</td>\n",
       "      <td>9.000000</td>\n",
       "      <td>300.000000</td>\n",
       "      <td>1.000000</td>\n",
       "    </tr>\n",
       "  </tbody>\n",
       "</table>\n",
       "</div>"
      ],
      "text/plain": [
       "             gender           age  hypertension  heart_disease  \\\n",
       "count  18700.000000  18700.000000  18700.000000   18700.000000   \n",
       "mean       0.438717     49.708083      0.142888       0.082888   \n",
       "std        0.496459     21.756392      0.349968       0.275720   \n",
       "min        0.000000      0.080000      0.000000       0.000000   \n",
       "25%        0.000000     34.000000      0.000000       0.000000   \n",
       "50%        0.000000     53.000000      0.000000       0.000000   \n",
       "75%        1.000000     67.000000      0.000000       0.000000   \n",
       "max        2.000000     80.000000      1.000000       1.000000   \n",
       "\n",
       "       smoking_history           bmi   HbA1c_level  blood_glucose_level  \\\n",
       "count     18700.000000  18700.000000  18700.000000         18700.000000   \n",
       "mean          2.908556     29.203025      6.095444           160.461070   \n",
       "std           1.327645      7.352430      1.277635            55.972938   \n",
       "min           0.000000     10.010000      3.500000            80.000000   \n",
       "25%           2.000000     25.660000      5.700000           130.000000   \n",
       "50%           3.000000     27.320000      6.100000           155.000000   \n",
       "75%           4.000000     32.420000      6.600000           160.000000   \n",
       "max           5.000000     88.720000      9.000000           300.000000   \n",
       "\n",
       "           diabetes  \n",
       "count  18700.000000  \n",
       "mean       0.454545  \n",
       "std        0.497943  \n",
       "min        0.000000  \n",
       "25%        0.000000  \n",
       "50%        0.000000  \n",
       "75%        1.000000  \n",
       "max        1.000000  "
      ]
     },
     "execution_count": 35,
     "metadata": {},
     "output_type": "execute_result"
    }
   ],
   "source": [
    "raw_data.describe()\n"
   ]
  },
  {
   "attachments": {},
   "cell_type": "markdown",
   "metadata": {},
   "source": [
    "Feature Selection"
   ]
  },
  {
   "cell_type": "code",
   "execution_count": 36,
   "metadata": {},
   "outputs": [
    {
     "data": {
      "text/plain": [
       "<Axes: >"
      ]
     },
     "execution_count": 36,
     "metadata": {},
     "output_type": "execute_result"
    },
    {
     "data": {
      "image/png": "[encoded data removed]",
      "text/plain": [
       "<Figure size 640x480 with 2 Axes>"
      ]
     },
     "metadata": {},
     "output_type": "display_data"
    }
   ],
   "source": [
    "#plotting correlation heatmap\n",
    "sns.heatmap(raw_data.corr(),annot=True, cmap='coolwarm')"
   ]
  },
  {
   "cell_type": "code",
   "execution_count": 37,
   "metadata": {},
   "outputs": [
    {
     "name": "stdout",
     "output_type": "stream",
     "text": [
      "Count of 0: 10200\n",
      "Count of 1: 8500\n"
     ]
    }
   ],
   "source": [
    "\n",
    "\n",
    "\n",
    "value_counts = raw_data['diabetes'].value_counts()\n",
    "\n",
    "# Access the count for 0\n",
    "count_0 = value_counts[0]\n",
    "\n",
    "# Access the count for 1\n",
    "count_1 = value_counts[1]\n",
    "\n",
    "# Print the counts\n",
    "print(\"Count of 0:\", count_0)\n",
    "print(\"Count of 1:\", count_1)\n"
   ]
  },
  {
   "cell_type": "code",
   "execution_count": 38,
   "metadata": {},
   "outputs": [],
   "source": [
    "Inputs = raw_data[['blood_glucose_level', 'HbA1c_level','age','bmi']]\n",
    "targets = raw_data['diabetes']"
   ]
  },
  {
   "attachments": {},
   "cell_type": "markdown",
   "metadata": {},
   "source": [
    "Data Visualization"
   ]
  },
  {
   "cell_type": "code",
   "execution_count": 39,
   "metadata": {},
   "outputs": [
    {
     "data": {
      "image/png": "[encoded data removed]",
      "text/plain": [
       "<Figure size 800x600 with 1 Axes>"
      ]
     },
     "metadata": {},
     "output_type": "display_data"
    },
    {
     "data": {
      "image/png": "[encoded data removed]",
      "text/plain": [
       "<Figure size 800x600 with 1 Axes>"
      ]
     },
     "metadata": {},
     "output_type": "display_data"
    },
    {
     "data": {
      "image/png": "[encoded data removed]",
      "text/plain": [
       "<Figure size 800x600 with 1 Axes>"
      ]
     },
     "metadata": {},
     "output_type": "display_data"
    },
    {
     "data": {
      "image/png": "[encoded data removed]",
      "text/plain": [
       "<Figure size 800x600 with 1 Axes>"
      ]
     },
     "metadata": {},
     "output_type": "display_data"
    }
   ],
   "source": [
    "#plotting histograms between input features and targets\n",
    "for feature in Inputs.columns:\n",
    "    plt.figure(figsize=(8, 6))\n",
    "    plt.hist(Inputs[feature][targets == 0], bins=20, alpha=0.5, color='blue', label='Class 0')\n",
    "    plt.hist(Inputs[feature][targets == 1], bins=20, alpha=0.5, color='red', label='Class 1')\n",
    "    plt.xlabel(feature)\n",
    "    plt.ylabel('Frequency')\n",
    "    plt.title(f'Histogram of {feature} with Target Feature')\n",
    "    plt.legend()\n",
    "    plt.show()"
   ]
  },
  {
   "attachments": {},
   "cell_type": "markdown",
   "metadata": {},
   "source": [
    "Train_Test_Split"
   ]
  },
  {
   "cell_type": "code",
   "execution_count": 40,
   "metadata": {},
   "outputs": [],
   "source": [
    "X_train, X_test, y_train, y_test = train_test_split(Inputs, targets, test_size=0.2, random_state=42)"
   ]
  },
  {
   "cell_type": "code",
   "execution_count": 41,
   "metadata": {},
   "outputs": [
    {
     "data": {
      "text/html": [
       "<style>#sk-container-id-2 {color: black;background-color: white;}#sk-container-id-2 pre{padding: 0;}#sk-container-id-2 div.sk-toggleable {background-color: white;}#sk-container-id-2 label.sk-toggleable__label {cursor: pointer;display: block;width: 100%;margin-bottom: 0;padding: 0.3em;box-sizing: border-box;text-align: center;}#sk-container-id-2 label.sk-toggleable__label-arrow:before {content: \"▸\";float: left;margin-right: 0.25em;color: #696969;}#sk-container-id-2 label.sk-toggleable__label-arrow:hover:before {color: black;}#sk-container-id-2 div.sk-estimator:hover label.sk-toggleable__label-arrow:before {color: black;}#sk-container-id-2 div.sk-toggleable__content {max-height: 0;max-width: 0;overflow: hidden;text-align: left;background-color: #f0f8ff;}#sk-container-id-2 div.sk-toggleable__content pre {margin: 0.2em;color: black;border-radius: 0.25em;background-color: #f0f8ff;}#sk-container-id-2 input.sk-toggleable__control:checked~div.sk-toggleable__content {max-height: 200px;max-width: 100%;overflow: auto;}#sk-container-id-2 input.sk-toggleable__control:checked~label.sk-toggleable__label-arrow:before {content: \"▾\";}#sk-container-id-2 div.sk-estimator input.sk-toggleable__control:checked~label.sk-toggleable__label {background-color: #d4ebff;}#sk-container-id-2 div.sk-label input.sk-toggleable__control:checked~label.sk-toggleable__label {background-color: #d4ebff;}#sk-container-id-2 input.sk-hidden--visually {border: 0;clip: rect(1px 1px 1px 1px);clip: rect(1px, 1px, 1px, 1px);height: 1px;margin: -1px;overflow: hidden;padding: 0;position: absolute;width: 1px;}#sk-container-id-2 div.sk-estimator {font-family: monospace;background-color: #f0f8ff;border: 1px dotted black;border-radius: 0.25em;box-sizing: border-box;margin-bottom: 0.5em;}#sk-container-id-2 div.sk-estimator:hover {background-color: #d4ebff;}#sk-container-id-2 div.sk-parallel-item::after {content: \"\";width: 100%;border-bottom: 1px solid gray;flex-grow: 1;}#sk-container-id-2 div.sk-label:hover label.sk-toggleable__label {background-color: #d4ebff;}#sk-container-id-2 div.sk-serial::before {content: \"\";position: absolute;border-left: 1px solid gray;box-sizing: border-box;top: 0;bottom: 0;left: 50%;z-index: 0;}#sk-container-id-2 div.sk-serial {display: flex;flex-direction: column;align-items: center;background-color: white;padding-right: 0.2em;padding-left: 0.2em;position: relative;}#sk-container-id-2 div.sk-item {position: relative;z-index: 1;}#sk-container-id-2 div.sk-parallel {display: flex;align-items: stretch;justify-content: center;background-color: white;position: relative;}#sk-container-id-2 div.sk-item::before, #sk-container-id-2 div.sk-parallel-item::before {content: \"\";position: absolute;border-left: 1px solid gray;box-sizing: border-box;top: 0;bottom: 0;left: 50%;z-index: -1;}#sk-container-id-2 div.sk-parallel-item {display: flex;flex-direction: column;z-index: 1;position: relative;background-color: white;}#sk-container-id-2 div.sk-parallel-item:first-child::after {align-self: flex-end;width: 50%;}#sk-container-id-2 div.sk-parallel-item:last-child::after {align-self: flex-start;width: 50%;}#sk-container-id-2 div.sk-parallel-item:only-child::after {width: 0;}#sk-container-id-2 div.sk-dashed-wrapped {border: 1px dashed gray;margin: 0 0.4em 0.5em 0.4em;box-sizing: border-box;padding-bottom: 0.4em;background-color: white;}#sk-container-id-2 div.sk-label label {font-family: monospace;font-weight: bold;display: inline-block;line-height: 1.2em;}#sk-container-id-2 div.sk-label-container {text-align: center;}#sk-container-id-2 div.sk-container {/* jupyter's `normalize.less` sets `[hidden] { display: none; }` but bootstrap.min.css set `[hidden] { display: none !important; }` so we also need the `!important` here to be able to override the default hidden behavior on the sphinx rendered scikit-learn.org. See: https://github.com/scikit-learn/scikit-learn/issues/21755 */display: inline-block !important;position: relative;}#sk-container-id-2 div.sk-text-repr-fallback {display: none;}</style><div id=\"sk-container-id-2\" class=\"sk-top-container\"><div class=\"sk-text-repr-fallback\"><pre>LogisticRegression(solver=&#x27;liblinear&#x27;)</pre><b>In a Jupyter environment, please rerun this cell to show the HTML representation or trust the notebook. <br />On GitHub, the HTML representation is unable to render, please try loading this page with nbviewer.org.</b></div><div class=\"sk-container\" hidden><div class=\"sk-item\"><div class=\"sk-estimator sk-toggleable\"><input class=\"sk-toggleable__control sk-hidden--visually\" id=\"sk-estimator-id-2\" type=\"checkbox\" checked><label for=\"sk-estimator-id-2\" class=\"sk-toggleable__label sk-toggleable__label-arrow\">LogisticRegression</label><div class=\"sk-toggleable__content\"><pre>LogisticRegression(solver=&#x27;liblinear&#x27;)</pre></div></div></div></div></div>"
      ],
      "text/plain": [
       "LogisticRegression(solver='liblinear')"
      ]
     },
     "execution_count": 41,
     "metadata": {},
     "output_type": "execute_result"
    }
   ],
   "source": [
    "logR = LogisticRegression(penalty=\"l2\", solver=\"liblinear\")\n",
    "logR.fit(X_train, y_train)"
   ]
  },
  {
   "cell_type": "code",
   "execution_count": 42,
   "metadata": {},
   "outputs": [
    {
     "name": "stdout",
     "output_type": "stream",
     "text": [
      "88.34224598930481\n"
     ]
    }
   ],
   "source": [
    "y_pred = logR.predict(X_test)\n",
    "acc_score = accuracy_score(y_test, y_pred)\n",
    "print(acc_score*100)"
   ]
  },
  {
   "cell_type": "code",
   "execution_count": 43,
   "metadata": {},
   "outputs": [
    {
     "name": "stdout",
     "output_type": "stream",
     "text": [
      "86.96951583980872\n"
     ]
    }
   ],
   "source": [
    "\n",
    "f1_sco = f1_score(y_test, y_pred)\n",
    "print(f1_sco*100)"
   ]
  },
  {
   "cell_type": "code",
   "execution_count": 44,
   "metadata": {},
   "outputs": [
    {
     "name": "stdout",
     "output_type": "stream",
     "text": [
      "[[1849  186]\n",
      " [ 250 1455]]\n"
     ]
    }
   ],
   "source": [
    "con = confusion_matrix(y_test, y_pred)\n",
    "print(con)"
   ]
  },
  {
   "cell_type": "code",
   "execution_count": 45,
   "metadata": {},
   "outputs": [],
   "source": [
    "clf = classification_report(y_test, y_pred)"
   ]
  },
  {
   "cell_type": "code",
   "execution_count": 46,
   "metadata": {},
   "outputs": [
    {
     "name": "stdout",
     "output_type": "stream",
     "text": [
      "              precision    recall  f1-score   support\n",
      "\n",
      "           0       0.88      0.91      0.89      2035\n",
      "           1       0.89      0.85      0.87      1705\n",
      "\n",
      "    accuracy                           0.88      3740\n",
      "   macro avg       0.88      0.88      0.88      3740\n",
      "weighted avg       0.88      0.88      0.88      3740\n",
      "\n"
     ]
    }
   ],
   "source": [
    "print(clf)"
   ]
  },
  {
   "cell_type": "code",
   "execution_count": 47,
   "metadata": {},
   "outputs": [
    {
     "name": "stdout",
     "output_type": "stream",
     "text": [
      "TPR (Sensitivity/Recall): 85.33724340175954\n",
      "TNR (True Negative Rate/ Specificity): 90.85995085995086\n"
     ]
    }
   ],
   "source": [
    "TN = con[0,0]\n",
    "FP = con[0,1]\n",
    "\n",
    "TNR = (TN / (TN+FP))*100\n",
    "\n",
    "TP = con[1,1]\n",
    "FN = con[1,0]\n",
    "\n",
    "TPR = (TP / (TP + FN))*100\n",
    "\n",
    "\n",
    "\n",
    "\n",
    "print(\"TPR (Sensitivity/Recall):\", TPR)\n",
    "print(\"TNR (True Negative Rate/ Specificity):\", TNR)"
   ]
  },
  {
   "cell_type": "code",
   "execution_count": 48,
   "metadata": {},
   "outputs": [
    {
     "data": {
      "text/html": [
       "<style>#sk-container-id-3 {color: black;background-color: white;}#sk-container-id-3 pre{padding: 0;}#sk-container-id-3 div.sk-toggleable {background-color: white;}#sk-container-id-3 label.sk-toggleable__label {cursor: pointer;display: block;width: 100%;margin-bottom: 0;padding: 0.3em;box-sizing: border-box;text-align: center;}#sk-container-id-3 label.sk-toggleable__label-arrow:before {content: \"▸\";float: left;margin-right: 0.25em;color: #696969;}#sk-container-id-3 label.sk-toggleable__label-arrow:hover:before {color: black;}#sk-container-id-3 div.sk-estimator:hover label.sk-toggleable__label-arrow:before {color: black;}#sk-container-id-3 div.sk-toggleable__content {max-height: 0;max-width: 0;overflow: hidden;text-align: left;background-color: #f0f8ff;}#sk-container-id-3 div.sk-toggleable__content pre {margin: 0.2em;color: black;border-radius: 0.25em;background-color: #f0f8ff;}#sk-container-id-3 input.sk-toggleable__control:checked~div.sk-toggleable__content {max-height: 200px;max-width: 100%;overflow: auto;}#sk-container-id-3 input.sk-toggleable__control:checked~label.sk-toggleable__label-arrow:before {content: \"▾\";}#sk-container-id-3 div.sk-estimator input.sk-toggleable__control:checked~label.sk-toggleable__label {background-color: #d4ebff;}#sk-container-id-3 div.sk-label input.sk-toggleable__control:checked~label.sk-toggleable__label {background-color: #d4ebff;}#sk-container-id-3 input.sk-hidden--visually {border: 0;clip: rect(1px 1px 1px 1px);clip: rect(1px, 1px, 1px, 1px);height: 1px;margin: -1px;overflow: hidden;padding: 0;position: absolute;width: 1px;}#sk-container-id-3 div.sk-estimator {font-family: monospace;background-color: #f0f8ff;border: 1px dotted black;border-radius: 0.25em;box-sizing: border-box;margin-bottom: 0.5em;}#sk-container-id-3 div.sk-estimator:hover {background-color: #d4ebff;}#sk-container-id-3 div.sk-parallel-item::after {content: \"\";width: 100%;border-bottom: 1px solid gray;flex-grow: 1;}#sk-container-id-3 div.sk-label:hover label.sk-toggleable__label {background-color: #d4ebff;}#sk-container-id-3 div.sk-serial::before {content: \"\";position: absolute;border-left: 1px solid gray;box-sizing: border-box;top: 0;bottom: 0;left: 50%;z-index: 0;}#sk-container-id-3 div.sk-serial {display: flex;flex-direction: column;align-items: center;background-color: white;padding-right: 0.2em;padding-left: 0.2em;position: relative;}#sk-container-id-3 div.sk-item {position: relative;z-index: 1;}#sk-container-id-3 div.sk-parallel {display: flex;align-items: stretch;justify-content: center;background-color: white;position: relative;}#sk-container-id-3 div.sk-item::before, #sk-container-id-3 div.sk-parallel-item::before {content: \"\";position: absolute;border-left: 1px solid gray;box-sizing: border-box;top: 0;bottom: 0;left: 50%;z-index: -1;}#sk-container-id-3 div.sk-parallel-item {display: flex;flex-direction: column;z-index: 1;position: relative;background-color: white;}#sk-container-id-3 div.sk-parallel-item:first-child::after {align-self: flex-end;width: 50%;}#sk-container-id-3 div.sk-parallel-item:last-child::after {align-self: flex-start;width: 50%;}#sk-container-id-3 div.sk-parallel-item:only-child::after {width: 0;}#sk-container-id-3 div.sk-dashed-wrapped {border: 1px dashed gray;margin: 0 0.4em 0.5em 0.4em;box-sizing: border-box;padding-bottom: 0.4em;background-color: white;}#sk-container-id-3 div.sk-label label {font-family: monospace;font-weight: bold;display: inline-block;line-height: 1.2em;}#sk-container-id-3 div.sk-label-container {text-align: center;}#sk-container-id-3 div.sk-container {/* jupyter's `normalize.less` sets `[hidden] { display: none; }` but bootstrap.min.css set `[hidden] { display: none !important; }` so we also need the `!important` here to be able to override the default hidden behavior on the sphinx rendered scikit-learn.org. See: https://github.com/scikit-learn/scikit-learn/issues/21755 */display: inline-block !important;position: relative;}#sk-container-id-3 div.sk-text-repr-fallback {display: none;}</style><div id=\"sk-container-id-3\" class=\"sk-top-container\"><div class=\"sk-text-repr-fallback\"><pre>GaussianNB()</pre><b>In a Jupyter environment, please rerun this cell to show the HTML representation or trust the notebook. <br />On GitHub, the HTML representation is unable to render, please try loading this page with nbviewer.org.</b></div><div class=\"sk-container\" hidden><div class=\"sk-item\"><div class=\"sk-estimator sk-toggleable\"><input class=\"sk-toggleable__control sk-hidden--visually\" id=\"sk-estimator-id-3\" type=\"checkbox\" checked><label for=\"sk-estimator-id-3\" class=\"sk-toggleable__label sk-toggleable__label-arrow\">GaussianNB</label><div class=\"sk-toggleable__content\"><pre>GaussianNB()</pre></div></div></div></div></div>"
      ],
      "text/plain": [
       "GaussianNB()"
      ]
     },
     "execution_count": 48,
     "metadata": {},
     "output_type": "execute_result"
    }
   ],
   "source": [
    "NB = GaussianNB()\n",
    "NB.fit(X_train, y_train)"
   ]
  },
  {
   "cell_type": "code",
   "execution_count": 49,
   "metadata": {},
   "outputs": [
    {
     "name": "stdout",
     "output_type": "stream",
     "text": [
      "86.89839572192514\n"
     ]
    }
   ],
   "source": [
    "y_pred = NB.predict(X_test)\n",
    "acc_score = accuracy_score(y_test, y_pred)\n",
    "print(acc_score*100)"
   ]
  },
  {
   "cell_type": "code",
   "execution_count": 50,
   "metadata": {},
   "outputs": [
    {
     "name": "stdout",
     "output_type": "stream",
     "text": [
      "84.87654320987653\n"
     ]
    }
   ],
   "source": [
    "\n",
    "f1_sco = f1_score(y_test, y_pred)\n",
    "print(f1_sco*100)"
   ]
  },
  {
   "cell_type": "code",
   "execution_count": 51,
   "metadata": {},
   "outputs": [
    {
     "name": "stdout",
     "output_type": "stream",
     "text": [
      "[[1875  160]\n",
      " [ 330 1375]]\n"
     ]
    }
   ],
   "source": [
    "con = confusion_matrix(y_test, y_pred)\n",
    "print(con)"
   ]
  },
  {
   "cell_type": "code",
   "execution_count": 52,
   "metadata": {},
   "outputs": [],
   "source": [
    "clf = classification_report(y_test, y_pred)"
   ]
  },
  {
   "cell_type": "code",
   "execution_count": 53,
   "metadata": {},
   "outputs": [
    {
     "name": "stdout",
     "output_type": "stream",
     "text": [
      "              precision    recall  f1-score   support\n",
      "\n",
      "           0       0.85      0.92      0.88      2035\n",
      "           1       0.90      0.81      0.85      1705\n",
      "\n",
      "    accuracy                           0.87      3740\n",
      "   macro avg       0.87      0.86      0.87      3740\n",
      "weighted avg       0.87      0.87      0.87      3740\n",
      "\n"
     ]
    }
   ],
   "source": [
    "print(clf)"
   ]
  },
  {
   "cell_type": "code",
   "execution_count": 54,
   "metadata": {},
   "outputs": [
    {
     "name": "stdout",
     "output_type": "stream",
     "text": [
      "TPR (Sensitivity/Recall): 80.64516129032258\n",
      "TNR (True Negative Rate/ Specificity): 92.13759213759214\n"
     ]
    }
   ],
   "source": [
    "TN = con[0,0]\n",
    "FP = con[0,1]\n",
    "\n",
    "TNR = (TN / (TN+FP))*100\n",
    "\n",
    "TP = con[1,1]\n",
    "FN = con[1,0]\n",
    "\n",
    "TPR = (TP / (TP + FN))*100\n",
    "\n",
    "\n",
    "\n",
    "\n",
    "print(\"TPR (Sensitivity/Recall):\", TPR)\n",
    "print(\"TNR (True Negative Rate/ Specificity):\", TNR)"
   ]
  },
  {
   "cell_type": "code",
   "execution_count": 55,
   "metadata": {},
   "outputs": [
    {
     "data": {
      "text/html": [
       "<style>#sk-container-id-4 {color: black;background-color: white;}#sk-container-id-4 pre{padding: 0;}#sk-container-id-4 div.sk-toggleable {background-color: white;}#sk-container-id-4 label.sk-toggleable__label {cursor: pointer;display: block;width: 100%;margin-bottom: 0;padding: 0.3em;box-sizing: border-box;text-align: center;}#sk-container-id-4 label.sk-toggleable__label-arrow:before {content: \"▸\";float: left;margin-right: 0.25em;color: #696969;}#sk-container-id-4 label.sk-toggleable__label-arrow:hover:before {color: black;}#sk-container-id-4 div.sk-estimator:hover label.sk-toggleable__label-arrow:before {color: black;}#sk-container-id-4 div.sk-toggleable__content {max-height: 0;max-width: 0;overflow: hidden;text-align: left;background-color: #f0f8ff;}#sk-container-id-4 div.sk-toggleable__content pre {margin: 0.2em;color: black;border-radius: 0.25em;background-color: #f0f8ff;}#sk-container-id-4 input.sk-toggleable__control:checked~div.sk-toggleable__content {max-height: 200px;max-width: 100%;overflow: auto;}#sk-container-id-4 input.sk-toggleable__control:checked~label.sk-toggleable__label-arrow:before {content: \"▾\";}#sk-container-id-4 div.sk-estimator input.sk-toggleable__control:checked~label.sk-toggleable__label {background-color: #d4ebff;}#sk-container-id-4 div.sk-label input.sk-toggleable__control:checked~label.sk-toggleable__label {background-color: #d4ebff;}#sk-container-id-4 input.sk-hidden--visually {border: 0;clip: rect(1px 1px 1px 1px);clip: rect(1px, 1px, 1px, 1px);height: 1px;margin: -1px;overflow: hidden;padding: 0;position: absolute;width: 1px;}#sk-container-id-4 div.sk-estimator {font-family: monospace;background-color: #f0f8ff;border: 1px dotted black;border-radius: 0.25em;box-sizing: border-box;margin-bottom: 0.5em;}#sk-container-id-4 div.sk-estimator:hover {background-color: #d4ebff;}#sk-container-id-4 div.sk-parallel-item::after {content: \"\";width: 100%;border-bottom: 1px solid gray;flex-grow: 1;}#sk-container-id-4 div.sk-label:hover label.sk-toggleable__label {background-color: #d4ebff;}#sk-container-id-4 div.sk-serial::before {content: \"\";position: absolute;border-left: 1px solid gray;box-sizing: border-box;top: 0;bottom: 0;left: 50%;z-index: 0;}#sk-container-id-4 div.sk-serial {display: flex;flex-direction: column;align-items: center;background-color: white;padding-right: 0.2em;padding-left: 0.2em;position: relative;}#sk-container-id-4 div.sk-item {position: relative;z-index: 1;}#sk-container-id-4 div.sk-parallel {display: flex;align-items: stretch;justify-content: center;background-color: white;position: relative;}#sk-container-id-4 div.sk-item::before, #sk-container-id-4 div.sk-parallel-item::before {content: \"\";position: absolute;border-left: 1px solid gray;box-sizing: border-box;top: 0;bottom: 0;left: 50%;z-index: -1;}#sk-container-id-4 div.sk-parallel-item {display: flex;flex-direction: column;z-index: 1;position: relative;background-color: white;}#sk-container-id-4 div.sk-parallel-item:first-child::after {align-self: flex-end;width: 50%;}#sk-container-id-4 div.sk-parallel-item:last-child::after {align-self: flex-start;width: 50%;}#sk-container-id-4 div.sk-parallel-item:only-child::after {width: 0;}#sk-container-id-4 div.sk-dashed-wrapped {border: 1px dashed gray;margin: 0 0.4em 0.5em 0.4em;box-sizing: border-box;padding-bottom: 0.4em;background-color: white;}#sk-container-id-4 div.sk-label label {font-family: monospace;font-weight: bold;display: inline-block;line-height: 1.2em;}#sk-container-id-4 div.sk-label-container {text-align: center;}#sk-container-id-4 div.sk-container {/* jupyter's `normalize.less` sets `[hidden] { display: none; }` but bootstrap.min.css set `[hidden] { display: none !important; }` so we also need the `!important` here to be able to override the default hidden behavior on the sphinx rendered scikit-learn.org. See: https://github.com/scikit-learn/scikit-learn/issues/21755 */display: inline-block !important;position: relative;}#sk-container-id-4 div.sk-text-repr-fallback {display: none;}</style><div id=\"sk-container-id-4\" class=\"sk-top-container\"><div class=\"sk-text-repr-fallback\"><pre>SVC()</pre><b>In a Jupyter environment, please rerun this cell to show the HTML representation or trust the notebook. <br />On GitHub, the HTML representation is unable to render, please try loading this page with nbviewer.org.</b></div><div class=\"sk-container\" hidden><div class=\"sk-item\"><div class=\"sk-estimator sk-toggleable\"><input class=\"sk-toggleable__control sk-hidden--visually\" id=\"sk-estimator-id-4\" type=\"checkbox\" checked><label for=\"sk-estimator-id-4\" class=\"sk-toggleable__label sk-toggleable__label-arrow\">SVC</label><div class=\"sk-toggleable__content\"><pre>SVC()</pre></div></div></div></div></div>"
      ],
      "text/plain": [
       "SVC()"
      ]
     },
     "execution_count": 55,
     "metadata": {},
     "output_type": "execute_result"
    }
   ],
   "source": [
    "svc = SVC()\n",
    "svc.fit(X_train, y_train)"
   ]
  },
  {
   "cell_type": "code",
   "execution_count": 56,
   "metadata": {},
   "outputs": [
    {
     "name": "stdout",
     "output_type": "stream",
     "text": [
      "86.8716577540107\n"
     ]
    }
   ],
   "source": [
    "y_pred = svc.predict(X_test)\n",
    "acc_score = accuracy_score(y_test, y_pred)\n",
    "print(acc_score*100)"
   ]
  },
  {
   "cell_type": "code",
   "execution_count": 57,
   "metadata": {},
   "outputs": [
    {
     "name": "stdout",
     "output_type": "stream",
     "text": [
      "85.7308921825051\n"
     ]
    }
   ],
   "source": [
    "\n",
    "f1_sco = f1_score(y_test, y_pred)\n",
    "print(f1_sco*100)"
   ]
  },
  {
   "cell_type": "code",
   "execution_count": 58,
   "metadata": {},
   "outputs": [
    {
     "name": "stdout",
     "output_type": "stream",
     "text": [
      "[[1774  261]\n",
      " [ 230 1475]]\n"
     ]
    }
   ],
   "source": [
    "con = confusion_matrix(y_test, y_pred)\n",
    "print(con)"
   ]
  },
  {
   "cell_type": "code",
   "execution_count": 59,
   "metadata": {},
   "outputs": [],
   "source": [
    "clf = classification_report(y_test, y_pred)"
   ]
  },
  {
   "cell_type": "code",
   "execution_count": 60,
   "metadata": {},
   "outputs": [
    {
     "name": "stdout",
     "output_type": "stream",
     "text": [
      "              precision    recall  f1-score   support\n",
      "\n",
      "           0       0.89      0.87      0.88      2035\n",
      "           1       0.85      0.87      0.86      1705\n",
      "\n",
      "    accuracy                           0.87      3740\n",
      "   macro avg       0.87      0.87      0.87      3740\n",
      "weighted avg       0.87      0.87      0.87      3740\n",
      "\n"
     ]
    }
   ],
   "source": [
    "print(clf)"
   ]
  },
  {
   "cell_type": "code",
   "execution_count": 61,
   "metadata": {},
   "outputs": [
    {
     "name": "stdout",
     "output_type": "stream",
     "text": [
      "TPR (Sensitivity/Recall): 86.51026392961877\n",
      "TNR (True Negative Rate/ Specificity): 87.17444717444718\n"
     ]
    }
   ],
   "source": [
    "TN = con[0,0]\n",
    "FP = con[0,1]\n",
    "\n",
    "TNR = (TN / (TN+FP))*100\n",
    "\n",
    "TP = con[1,1]\n",
    "FN = con[1,0]\n",
    "\n",
    "TPR = (TP / (TP + FN))*100\n",
    "\n",
    "\n",
    "\n",
    "\n",
    "print(\"TPR (Sensitivity/Recall):\", TPR)\n",
    "print(\"TNR (True Negative Rate/ Specificity):\", TNR)"
   ]
  },
  {
   "cell_type": "code",
   "execution_count": 62,
   "metadata": {},
   "outputs": [
    {
     "data": {
      "text/html": [
       "<style>#sk-container-id-5 {color: black;background-color: white;}#sk-container-id-5 pre{padding: 0;}#sk-container-id-5 div.sk-toggleable {background-color: white;}#sk-container-id-5 label.sk-toggleable__label {cursor: pointer;display: block;width: 100%;margin-bottom: 0;padding: 0.3em;box-sizing: border-box;text-align: center;}#sk-container-id-5 label.sk-toggleable__label-arrow:before {content: \"▸\";float: left;margin-right: 0.25em;color: #696969;}#sk-container-id-5 label.sk-toggleable__label-arrow:hover:before {color: black;}#sk-container-id-5 div.sk-estimator:hover label.sk-toggleable__label-arrow:before {color: black;}#sk-container-id-5 div.sk-toggleable__content {max-height: 0;max-width: 0;overflow: hidden;text-align: left;background-color: #f0f8ff;}#sk-container-id-5 div.sk-toggleable__content pre {margin: 0.2em;color: black;border-radius: 0.25em;background-color: #f0f8ff;}#sk-container-id-5 input.sk-toggleable__control:checked~div.sk-toggleable__content {max-height: 200px;max-width: 100%;overflow: auto;}#sk-container-id-5 input.sk-toggleable__control:checked~label.sk-toggleable__label-arrow:before {content: \"▾\";}#sk-container-id-5 div.sk-estimator input.sk-toggleable__control:checked~label.sk-toggleable__label {background-color: #d4ebff;}#sk-container-id-5 div.sk-label input.sk-toggleable__control:checked~label.sk-toggleable__label {background-color: #d4ebff;}#sk-container-id-5 input.sk-hidden--visually {border: 0;clip: rect(1px 1px 1px 1px);clip: rect(1px, 1px, 1px, 1px);height: 1px;margin: -1px;overflow: hidden;padding: 0;position: absolute;width: 1px;}#sk-container-id-5 div.sk-estimator {font-family: monospace;background-color: #f0f8ff;border: 1px dotted black;border-radius: 0.25em;box-sizing: border-box;margin-bottom: 0.5em;}#sk-container-id-5 div.sk-estimator:hover {background-color: #d4ebff;}#sk-container-id-5 div.sk-parallel-item::after {content: \"\";width: 100%;border-bottom: 1px solid gray;flex-grow: 1;}#sk-container-id-5 div.sk-label:hover label.sk-toggleable__label {background-color: #d4ebff;}#sk-container-id-5 div.sk-serial::before {content: \"\";position: absolute;border-left: 1px solid gray;box-sizing: border-box;top: 0;bottom: 0;left: 50%;z-index: 0;}#sk-container-id-5 div.sk-serial {display: flex;flex-direction: column;align-items: center;background-color: white;padding-right: 0.2em;padding-left: 0.2em;position: relative;}#sk-container-id-5 div.sk-item {position: relative;z-index: 1;}#sk-container-id-5 div.sk-parallel {display: flex;align-items: stretch;justify-content: center;background-color: white;position: relative;}#sk-container-id-5 div.sk-item::before, #sk-container-id-5 div.sk-parallel-item::before {content: \"\";position: absolute;border-left: 1px solid gray;box-sizing: border-box;top: 0;bottom: 0;left: 50%;z-index: -1;}#sk-container-id-5 div.sk-parallel-item {display: flex;flex-direction: column;z-index: 1;position: relative;background-color: white;}#sk-container-id-5 div.sk-parallel-item:first-child::after {align-self: flex-end;width: 50%;}#sk-container-id-5 div.sk-parallel-item:last-child::after {align-self: flex-start;width: 50%;}#sk-container-id-5 div.sk-parallel-item:only-child::after {width: 0;}#sk-container-id-5 div.sk-dashed-wrapped {border: 1px dashed gray;margin: 0 0.4em 0.5em 0.4em;box-sizing: border-box;padding-bottom: 0.4em;background-color: white;}#sk-container-id-5 div.sk-label label {font-family: monospace;font-weight: bold;display: inline-block;line-height: 1.2em;}#sk-container-id-5 div.sk-label-container {text-align: center;}#sk-container-id-5 div.sk-container {/* jupyter's `normalize.less` sets `[hidden] { display: none; }` but bootstrap.min.css set `[hidden] { display: none !important; }` so we also need the `!important` here to be able to override the default hidden behavior on the sphinx rendered scikit-learn.org. See: https://github.com/scikit-learn/scikit-learn/issues/21755 */display: inline-block !important;position: relative;}#sk-container-id-5 div.sk-text-repr-fallback {display: none;}</style><div id=\"sk-container-id-5\" class=\"sk-top-container\"><div class=\"sk-text-repr-fallback\"><pre>RandomForestClassifier(criterion=&#x27;entropy&#x27;)</pre><b>In a Jupyter environment, please rerun this cell to show the HTML representation or trust the notebook. <br />On GitHub, the HTML representation is unable to render, please try loading this page with nbviewer.org.</b></div><div class=\"sk-container\" hidden><div class=\"sk-item\"><div class=\"sk-estimator sk-toggleable\"><input class=\"sk-toggleable__control sk-hidden--visually\" id=\"sk-estimator-id-5\" type=\"checkbox\" checked><label for=\"sk-estimator-id-5\" class=\"sk-toggleable__label sk-toggleable__label-arrow\">RandomForestClassifier</label><div class=\"sk-toggleable__content\"><pre>RandomForestClassifier(criterion=&#x27;entropy&#x27;)</pre></div></div></div></div></div>"
      ],
      "text/plain": [
       "RandomForestClassifier(criterion='entropy')"
      ]
     },
     "execution_count": 62,
     "metadata": {},
     "output_type": "execute_result"
    }
   ],
   "source": [
    "RFC = RandomForestClassifier(criterion=\"entropy\")\n",
    "RFC.fit(X_train, y_train)"
   ]
  },
  {
   "cell_type": "code",
   "execution_count": 63,
   "metadata": {},
   "outputs": [
    {
     "name": "stdout",
     "output_type": "stream",
     "text": [
      "89.14438502673796\n"
     ]
    }
   ],
   "source": [
    "y_pred = RFC.predict(X_test)\n",
    "acc_score = accuracy_score(y_test, y_pred)\n",
    "print(acc_score*100)"
   ]
  },
  {
   "cell_type": "code",
   "execution_count": 64,
   "metadata": {},
   "outputs": [
    {
     "name": "stdout",
     "output_type": "stream",
     "text": [
      "87.98105387803434\n"
     ]
    }
   ],
   "source": [
    "\n",
    "f1_sco = f1_score(y_test, y_pred)\n",
    "print(f1_sco*100)"
   ]
  },
  {
   "cell_type": "code",
   "execution_count": 65,
   "metadata": {},
   "outputs": [
    {
     "name": "stdout",
     "output_type": "stream",
     "text": [
      "[[1848  187]\n",
      " [ 219 1486]]\n"
     ]
    }
   ],
   "source": [
    "con = confusion_matrix(y_test, y_pred)\n",
    "print(con)"
   ]
  },
  {
   "cell_type": "code",
   "execution_count": 66,
   "metadata": {},
   "outputs": [],
   "source": [
    "clf = classification_report(y_test, y_pred)"
   ]
  },
  {
   "cell_type": "code",
   "execution_count": 67,
   "metadata": {},
   "outputs": [
    {
     "name": "stdout",
     "output_type": "stream",
     "text": [
      "              precision    recall  f1-score   support\n",
      "\n",
      "           0       0.89      0.91      0.90      2035\n",
      "           1       0.89      0.87      0.88      1705\n",
      "\n",
      "    accuracy                           0.89      3740\n",
      "   macro avg       0.89      0.89      0.89      3740\n",
      "weighted avg       0.89      0.89      0.89      3740\n",
      "\n"
     ]
    }
   ],
   "source": [
    "print(clf)"
   ]
  },
  {
   "cell_type": "code",
   "execution_count": 68,
   "metadata": {},
   "outputs": [
    {
     "name": "stdout",
     "output_type": "stream",
     "text": [
      "TPR (Sensitivity/Recall): 87.15542521994135\n",
      "TNR (True Negative Rate/ Specificity): 90.81081081081082\n"
     ]
    }
   ],
   "source": [
    "TN = con[0,0]\n",
    "FP = con[0,1]\n",
    "\n",
    "TNR = (TN / (TN+FP))*100\n",
    "\n",
    "TP = con[1,1]\n",
    "FN = con[1,0]\n",
    "\n",
    "TPR = (TP / (TP + FN))*100\n",
    "\n",
    "\n",
    "\n",
    "\n",
    "print(\"TPR (Sensitivity/Recall):\", TPR)\n",
    "print(\"TNR (True Negative Rate/ Specificity):\", TNR)"
   ]
  },
  {
   "cell_type": "code",
   "execution_count": 69,
   "metadata": {},
   "outputs": [
    {
     "data": {
      "text/html": [
       "<style>#sk-container-id-6 {color: black;background-color: white;}#sk-container-id-6 pre{padding: 0;}#sk-container-id-6 div.sk-toggleable {background-color: white;}#sk-container-id-6 label.sk-toggleable__label {cursor: pointer;display: block;width: 100%;margin-bottom: 0;padding: 0.3em;box-sizing: border-box;text-align: center;}#sk-container-id-6 label.sk-toggleable__label-arrow:before {content: \"▸\";float: left;margin-right: 0.25em;color: #696969;}#sk-container-id-6 label.sk-toggleable__label-arrow:hover:before {color: black;}#sk-container-id-6 div.sk-estimator:hover label.sk-toggleable__label-arrow:before {color: black;}#sk-container-id-6 div.sk-toggleable__content {max-height: 0;max-width: 0;overflow: hidden;text-align: left;background-color: #f0f8ff;}#sk-container-id-6 div.sk-toggleable__content pre {margin: 0.2em;color: black;border-radius: 0.25em;background-color: #f0f8ff;}#sk-container-id-6 input.sk-toggleable__control:checked~div.sk-toggleable__content {max-height: 200px;max-width: 100%;overflow: auto;}#sk-container-id-6 input.sk-toggleable__control:checked~label.sk-toggleable__label-arrow:before {content: \"▾\";}#sk-container-id-6 div.sk-estimator input.sk-toggleable__control:checked~label.sk-toggleable__label {background-color: #d4ebff;}#sk-container-id-6 div.sk-label input.sk-toggleable__control:checked~label.sk-toggleable__label {background-color: #d4ebff;}#sk-container-id-6 input.sk-hidden--visually {border: 0;clip: rect(1px 1px 1px 1px);clip: rect(1px, 1px, 1px, 1px);height: 1px;margin: -1px;overflow: hidden;padding: 0;position: absolute;width: 1px;}#sk-container-id-6 div.sk-estimator {font-family: monospace;background-color: #f0f8ff;border: 1px dotted black;border-radius: 0.25em;box-sizing: border-box;margin-bottom: 0.5em;}#sk-container-id-6 div.sk-estimator:hover {background-color: #d4ebff;}#sk-container-id-6 div.sk-parallel-item::after {content: \"\";width: 100%;border-bottom: 1px solid gray;flex-grow: 1;}#sk-container-id-6 div.sk-label:hover label.sk-toggleable__label {background-color: #d4ebff;}#sk-container-id-6 div.sk-serial::before {content: \"\";position: absolute;border-left: 1px solid gray;box-sizing: border-box;top: 0;bottom: 0;left: 50%;z-index: 0;}#sk-container-id-6 div.sk-serial {display: flex;flex-direction: column;align-items: center;background-color: white;padding-right: 0.2em;padding-left: 0.2em;position: relative;}#sk-container-id-6 div.sk-item {position: relative;z-index: 1;}#sk-container-id-6 div.sk-parallel {display: flex;align-items: stretch;justify-content: center;background-color: white;position: relative;}#sk-container-id-6 div.sk-item::before, #sk-container-id-6 div.sk-parallel-item::before {content: \"\";position: absolute;border-left: 1px solid gray;box-sizing: border-box;top: 0;bottom: 0;left: 50%;z-index: -1;}#sk-container-id-6 div.sk-parallel-item {display: flex;flex-direction: column;z-index: 1;position: relative;background-color: white;}#sk-container-id-6 div.sk-parallel-item:first-child::after {align-self: flex-end;width: 50%;}#sk-container-id-6 div.sk-parallel-item:last-child::after {align-self: flex-start;width: 50%;}#sk-container-id-6 div.sk-parallel-item:only-child::after {width: 0;}#sk-container-id-6 div.sk-dashed-wrapped {border: 1px dashed gray;margin: 0 0.4em 0.5em 0.4em;box-sizing: border-box;padding-bottom: 0.4em;background-color: white;}#sk-container-id-6 div.sk-label label {font-family: monospace;font-weight: bold;display: inline-block;line-height: 1.2em;}#sk-container-id-6 div.sk-label-container {text-align: center;}#sk-container-id-6 div.sk-container {/* jupyter's `normalize.less` sets `[hidden] { display: none; }` but bootstrap.min.css set `[hidden] { display: none !important; }` so we also need the `!important` here to be able to override the default hidden behavior on the sphinx rendered scikit-learn.org. See: https://github.com/scikit-learn/scikit-learn/issues/21755 */display: inline-block !important;position: relative;}#sk-container-id-6 div.sk-text-repr-fallback {display: none;}</style><div id=\"sk-container-id-6\" class=\"sk-top-container\"><div class=\"sk-text-repr-fallback\"><pre>DecisionTreeClassifier(criterion=&#x27;entropy&#x27;)</pre><b>In a Jupyter environment, please rerun this cell to show the HTML representation or trust the notebook. <br />On GitHub, the HTML representation is unable to render, please try loading this page with nbviewer.org.</b></div><div class=\"sk-container\" hidden><div class=\"sk-item\"><div class=\"sk-estimator sk-toggleable\"><input class=\"sk-toggleable__control sk-hidden--visually\" id=\"sk-estimator-id-6\" type=\"checkbox\" checked><label for=\"sk-estimator-id-6\" class=\"sk-toggleable__label sk-toggleable__label-arrow\">DecisionTreeClassifier</label><div class=\"sk-toggleable__content\"><pre>DecisionTreeClassifier(criterion=&#x27;entropy&#x27;)</pre></div></div></div></div></div>"
      ],
      "text/plain": [
       "DecisionTreeClassifier(criterion='entropy')"
      ]
     },
     "execution_count": 69,
     "metadata": {},
     "output_type": "execute_result"
    }
   ],
   "source": [
    "DTC = DecisionTreeClassifier(criterion=\"entropy\")\n",
    "DTC.fit(X_train, y_train)"
   ]
  },
  {
   "cell_type": "code",
   "execution_count": 70,
   "metadata": {},
   "outputs": [
    {
     "name": "stdout",
     "output_type": "stream",
     "text": [
      "88.07486631016043\n"
     ]
    }
   ],
   "source": [
    "y_pred = DTC.predict(X_test)\n",
    "acc_score = accuracy_score(y_test, y_pred)\n",
    "print(acc_score*100)"
   ]
  },
  {
   "cell_type": "code",
   "execution_count": 71,
   "metadata": {},
   "outputs": [
    {
     "name": "stdout",
     "output_type": "stream",
     "text": [
      "86.86690223792698\n"
     ]
    }
   ],
   "source": [
    "\n",
    "f1_sco = f1_score(y_test, y_pred)\n",
    "print(f1_sco*100)"
   ]
  },
  {
   "cell_type": "code",
   "execution_count": 72,
   "metadata": {},
   "outputs": [
    {
     "name": "stdout",
     "output_type": "stream",
     "text": [
      "[[1819  216]\n",
      " [ 230 1475]]\n"
     ]
    }
   ],
   "source": [
    "con = confusion_matrix(y_test, y_pred)\n",
    "print(con)"
   ]
  },
  {
   "cell_type": "code",
   "execution_count": 73,
   "metadata": {},
   "outputs": [],
   "source": [
    "clf = classification_report(y_test, y_pred)"
   ]
  },
  {
   "cell_type": "code",
   "execution_count": 74,
   "metadata": {},
   "outputs": [
    {
     "name": "stdout",
     "output_type": "stream",
     "text": [
      "              precision    recall  f1-score   support\n",
      "\n",
      "           0       0.89      0.89      0.89      2035\n",
      "           1       0.87      0.87      0.87      1705\n",
      "\n",
      "    accuracy                           0.88      3740\n",
      "   macro avg       0.88      0.88      0.88      3740\n",
      "weighted avg       0.88      0.88      0.88      3740\n",
      "\n"
     ]
    }
   ],
   "source": [
    "print(clf)"
   ]
  },
  {
   "cell_type": "code",
   "execution_count": 75,
   "metadata": {},
   "outputs": [
    {
     "name": "stdout",
     "output_type": "stream",
     "text": [
      "TPR (Sensitivity/Recall): 86.51026392961877\n",
      "TNR (True Negative Rate/ Specificity): 89.38574938574939\n"
     ]
    }
   ],
   "source": [
    "TN = con[0,0]\n",
    "FP = con[0,1]\n",
    "\n",
    "TNR = (TN / (TN+FP))*100\n",
    "\n",
    "TP = con[1,1]\n",
    "FN = con[1,0]\n",
    "\n",
    "TPR = (TP / (TP + FN))*100\n",
    "\n",
    "\n",
    "\n",
    "\n",
    "print(\"TPR (Sensitivity/Recall):\", TPR)\n",
    "print(\"TNR (True Negative Rate/ Specificity):\", TNR)"
   ]
  },
  {
   "cell_type": "code",
   "execution_count": 76,
   "metadata": {},
   "outputs": [
    {
     "data": {
      "text/html": [
       "<style>#sk-container-id-7 {color: black;background-color: white;}#sk-container-id-7 pre{padding: 0;}#sk-container-id-7 div.sk-toggleable {background-color: white;}#sk-container-id-7 label.sk-toggleable__label {cursor: pointer;display: block;width: 100%;margin-bottom: 0;padding: 0.3em;box-sizing: border-box;text-align: center;}#sk-container-id-7 label.sk-toggleable__label-arrow:before {content: \"▸\";float: left;margin-right: 0.25em;color: #696969;}#sk-container-id-7 label.sk-toggleable__label-arrow:hover:before {color: black;}#sk-container-id-7 div.sk-estimator:hover label.sk-toggleable__label-arrow:before {color: black;}#sk-container-id-7 div.sk-toggleable__content {max-height: 0;max-width: 0;overflow: hidden;text-align: left;background-color: #f0f8ff;}#sk-container-id-7 div.sk-toggleable__content pre {margin: 0.2em;color: black;border-radius: 0.25em;background-color: #f0f8ff;}#sk-container-id-7 input.sk-toggleable__control:checked~div.sk-toggleable__content {max-height: 200px;max-width: 100%;overflow: auto;}#sk-container-id-7 input.sk-toggleable__control:checked~label.sk-toggleable__label-arrow:before {content: \"▾\";}#sk-container-id-7 div.sk-estimator input.sk-toggleable__control:checked~label.sk-toggleable__label {background-color: #d4ebff;}#sk-container-id-7 div.sk-label input.sk-toggleable__control:checked~label.sk-toggleable__label {background-color: #d4ebff;}#sk-container-id-7 input.sk-hidden--visually {border: 0;clip: rect(1px 1px 1px 1px);clip: rect(1px, 1px, 1px, 1px);height: 1px;margin: -1px;overflow: hidden;padding: 0;position: absolute;width: 1px;}#sk-container-id-7 div.sk-estimator {font-family: monospace;background-color: #f0f8ff;border: 1px dotted black;border-radius: 0.25em;box-sizing: border-box;margin-bottom: 0.5em;}#sk-container-id-7 div.sk-estimator:hover {background-color: #d4ebff;}#sk-container-id-7 div.sk-parallel-item::after {content: \"\";width: 100%;border-bottom: 1px solid gray;flex-grow: 1;}#sk-container-id-7 div.sk-label:hover label.sk-toggleable__label {background-color: #d4ebff;}#sk-container-id-7 div.sk-serial::before {content: \"\";position: absolute;border-left: 1px solid gray;box-sizing: border-box;top: 0;bottom: 0;left: 50%;z-index: 0;}#sk-container-id-7 div.sk-serial {display: flex;flex-direction: column;align-items: center;background-color: white;padding-right: 0.2em;padding-left: 0.2em;position: relative;}#sk-container-id-7 div.sk-item {position: relative;z-index: 1;}#sk-container-id-7 div.sk-parallel {display: flex;align-items: stretch;justify-content: center;background-color: white;position: relative;}#sk-container-id-7 div.sk-item::before, #sk-container-id-7 div.sk-parallel-item::before {content: \"\";position: absolute;border-left: 1px solid gray;box-sizing: border-box;top: 0;bottom: 0;left: 50%;z-index: -1;}#sk-container-id-7 div.sk-parallel-item {display: flex;flex-direction: column;z-index: 1;position: relative;background-color: white;}#sk-container-id-7 div.sk-parallel-item:first-child::after {align-self: flex-end;width: 50%;}#sk-container-id-7 div.sk-parallel-item:last-child::after {align-self: flex-start;width: 50%;}#sk-container-id-7 div.sk-parallel-item:only-child::after {width: 0;}#sk-container-id-7 div.sk-dashed-wrapped {border: 1px dashed gray;margin: 0 0.4em 0.5em 0.4em;box-sizing: border-box;padding-bottom: 0.4em;background-color: white;}#sk-container-id-7 div.sk-label label {font-family: monospace;font-weight: bold;display: inline-block;line-height: 1.2em;}#sk-container-id-7 div.sk-label-container {text-align: center;}#sk-container-id-7 div.sk-container {/* jupyter's `normalize.less` sets `[hidden] { display: none; }` but bootstrap.min.css set `[hidden] { display: none !important; }` so we also need the `!important` here to be able to override the default hidden behavior on the sphinx rendered scikit-learn.org. See: https://github.com/scikit-learn/scikit-learn/issues/21755 */display: inline-block !important;position: relative;}#sk-container-id-7 div.sk-text-repr-fallback {display: none;}</style><div id=\"sk-container-id-7\" class=\"sk-top-container\"><div class=\"sk-text-repr-fallback\"><pre>XGBClassifier(base_score=None, booster=None, callbacks=None,\n",
       "              colsample_bylevel=None, colsample_bynode=None,\n",
       "              colsample_bytree=None, early_stopping_rounds=None,\n",
       "              enable_categorical=False, eval_metric=None, feature_types=None,\n",
       "              gamma=None, gpu_id=None, grow_policy=None, importance_type=None,\n",
       "              interaction_constraints=None, learning_rate=0.01, max_bin=None,\n",
       "              max_cat_threshold=None, max_cat_to_onehot=None,\n",
       "              max_delta_step=None, max_depth=3, max_leaves=None,\n",
       "              min_child_weight=None, missing=nan, monotone_constraints=None,\n",
       "              n_estimators=300, n_jobs=None, num_parallel_tree=None,\n",
       "              predictor=None, random_state=None, ...)</pre><b>In a Jupyter environment, please rerun this cell to show the HTML representation or trust the notebook. <br />On GitHub, the HTML representation is unable to render, please try loading this page with nbviewer.org.</b></div><div class=\"sk-container\" hidden><div class=\"sk-item\"><div class=\"sk-estimator sk-toggleable\"><input class=\"sk-toggleable__control sk-hidden--visually\" id=\"sk-estimator-id-7\" type=\"checkbox\" checked><label for=\"sk-estimator-id-7\" class=\"sk-toggleable__label sk-toggleable__label-arrow\">XGBClassifier</label><div class=\"sk-toggleable__content\"><pre>XGBClassifier(base_score=None, booster=None, callbacks=None,\n",
       "              colsample_bylevel=None, colsample_bynode=None,\n",
       "              colsample_bytree=None, early_stopping_rounds=None,\n",
       "              enable_categorical=False, eval_metric=None, feature_types=None,\n",
       "              gamma=None, gpu_id=None, grow_policy=None, importance_type=None,\n",
       "              interaction_constraints=None, learning_rate=0.01, max_bin=None,\n",
       "              max_cat_threshold=None, max_cat_to_onehot=None,\n",
       "              max_delta_step=None, max_depth=3, max_leaves=None,\n",
       "              min_child_weight=None, missing=nan, monotone_constraints=None,\n",
       "              n_estimators=300, n_jobs=None, num_parallel_tree=None,\n",
       "              predictor=None, random_state=None, ...)</pre></div></div></div></div></div>"
      ],
      "text/plain": [
       "XGBClassifier(base_score=None, booster=None, callbacks=None,\n",
       "              colsample_bylevel=None, colsample_bynode=None,\n",
       "              colsample_bytree=None, early_stopping_rounds=None,\n",
       "              enable_categorical=False, eval_metric=None, feature_types=None,\n",
       "              gamma=None, gpu_id=None, grow_policy=None, importance_type=None,\n",
       "              interaction_constraints=None, learning_rate=0.01, max_bin=None,\n",
       "              max_cat_threshold=None, max_cat_to_onehot=None,\n",
       "              max_delta_step=None, max_depth=3, max_leaves=None,\n",
       "              min_child_weight=None, missing=nan, monotone_constraints=None,\n",
       "              n_estimators=300, n_jobs=None, num_parallel_tree=None,\n",
       "              predictor=None, random_state=None, ...)"
      ]
     },
     "execution_count": 76,
     "metadata": {},
     "output_type": "execute_result"
    }
   ],
   "source": [
    "XGB = xgb.XGBClassifier(learning_rate = 0.01, max_depth = 3, n_estimators = 300)\n",
    "\n",
    "XGB.fit(X_train, y_train)\n"
   ]
  },
  {
   "cell_type": "code",
   "execution_count": 77,
   "metadata": {},
   "outputs": [
    {
     "name": "stdout",
     "output_type": "stream",
     "text": [
      "89.06417112299465\n"
     ]
    }
   ],
   "source": [
    "y_pred = XGB.predict(X_test)\n",
    "acc_score = accuracy_score(y_test, y_pred)\n",
    "print(acc_score*100)"
   ]
  },
  {
   "cell_type": "code",
   "execution_count": 78,
   "metadata": {},
   "outputs": [
    {
     "name": "stdout",
     "output_type": "stream",
     "text": [
      "87.23072119887605\n"
     ]
    }
   ],
   "source": [
    "\n",
    "f1_sco = f1_score(y_test, y_pred)\n",
    "print(f1_sco*100)"
   ]
  },
  {
   "cell_type": "code",
   "execution_count": 79,
   "metadata": {},
   "outputs": [
    {
     "name": "stdout",
     "output_type": "stream",
     "text": [
      "[[1934  101]\n",
      " [ 308 1397]]\n"
     ]
    }
   ],
   "source": [
    "con = confusion_matrix(y_test, y_pred)\n",
    "print(con)"
   ]
  },
  {
   "cell_type": "code",
   "execution_count": 80,
   "metadata": {},
   "outputs": [],
   "source": [
    "clf = classification_report(y_test, y_pred)"
   ]
  },
  {
   "cell_type": "code",
   "execution_count": 81,
   "metadata": {},
   "outputs": [
    {
     "name": "stdout",
     "output_type": "stream",
     "text": [
      "              precision    recall  f1-score   support\n",
      "\n",
      "           0       0.86      0.95      0.90      2035\n",
      "           1       0.93      0.82      0.87      1705\n",
      "\n",
      "    accuracy                           0.89      3740\n",
      "   macro avg       0.90      0.88      0.89      3740\n",
      "weighted avg       0.89      0.89      0.89      3740\n",
      "\n"
     ]
    }
   ],
   "source": [
    "print(clf)"
   ]
  },
  {
   "cell_type": "code",
   "execution_count": 82,
   "metadata": {},
   "outputs": [
    {
     "name": "stdout",
     "output_type": "stream",
     "text": [
      "TPR (Sensitivity/Recall): 81.93548387096774\n",
      "TNR (True Negative Rate/ Specificity): 95.03685503685504\n"
     ]
    }
   ],
   "source": [
    "TN = con[0,0]\n",
    "FP = con[0,1]\n",
    "\n",
    "TNR = (TN / (TN+FP))*100\n",
    "\n",
    "TP = con[1,1]\n",
    "FN = con[1,0]\n",
    "\n",
    "TPR = (TP / (TP + FN))*100\n",
    "\n",
    "\n",
    "\n",
    "\n",
    "print(\"TPR (Sensitivity/Recall):\", TPR)\n",
    "print(\"TNR (True Negative Rate/ Specificity):\", TNR)"
   ]
  },
  {
   "cell_type": "code",
   "execution_count": 83,
   "metadata": {},
   "outputs": [
    {
     "data": {
      "text/html": [
       "<style>#sk-container-id-8 {color: black;background-color: white;}#sk-container-id-8 pre{padding: 0;}#sk-container-id-8 div.sk-toggleable {background-color: white;}#sk-container-id-8 label.sk-toggleable__label {cursor: pointer;display: block;width: 100%;margin-bottom: 0;padding: 0.3em;box-sizing: border-box;text-align: center;}#sk-container-id-8 label.sk-toggleable__label-arrow:before {content: \"▸\";float: left;margin-right: 0.25em;color: #696969;}#sk-container-id-8 label.sk-toggleable__label-arrow:hover:before {color: black;}#sk-container-id-8 div.sk-estimator:hover label.sk-toggleable__label-arrow:before {color: black;}#sk-container-id-8 div.sk-toggleable__content {max-height: 0;max-width: 0;overflow: hidden;text-align: left;background-color: #f0f8ff;}#sk-container-id-8 div.sk-toggleable__content pre {margin: 0.2em;color: black;border-radius: 0.25em;background-color: #f0f8ff;}#sk-container-id-8 input.sk-toggleable__control:checked~div.sk-toggleable__content {max-height: 200px;max-width: 100%;overflow: auto;}#sk-container-id-8 input.sk-toggleable__control:checked~label.sk-toggleable__label-arrow:before {content: \"▾\";}#sk-container-id-8 div.sk-estimator input.sk-toggleable__control:checked~label.sk-toggleable__label {background-color: #d4ebff;}#sk-container-id-8 div.sk-label input.sk-toggleable__control:checked~label.sk-toggleable__label {background-color: #d4ebff;}#sk-container-id-8 input.sk-hidden--visually {border: 0;clip: rect(1px 1px 1px 1px);clip: rect(1px, 1px, 1px, 1px);height: 1px;margin: -1px;overflow: hidden;padding: 0;position: absolute;width: 1px;}#sk-container-id-8 div.sk-estimator {font-family: monospace;background-color: #f0f8ff;border: 1px dotted black;border-radius: 0.25em;box-sizing: border-box;margin-bottom: 0.5em;}#sk-container-id-8 div.sk-estimator:hover {background-color: #d4ebff;}#sk-container-id-8 div.sk-parallel-item::after {content: \"\";width: 100%;border-bottom: 1px solid gray;flex-grow: 1;}#sk-container-id-8 div.sk-label:hover label.sk-toggleable__label {background-color: #d4ebff;}#sk-container-id-8 div.sk-serial::before {content: \"\";position: absolute;border-left: 1px solid gray;box-sizing: border-box;top: 0;bottom: 0;left: 50%;z-index: 0;}#sk-container-id-8 div.sk-serial {display: flex;flex-direction: column;align-items: center;background-color: white;padding-right: 0.2em;padding-left: 0.2em;position: relative;}#sk-container-id-8 div.sk-item {position: relative;z-index: 1;}#sk-container-id-8 div.sk-parallel {display: flex;align-items: stretch;justify-content: center;background-color: white;position: relative;}#sk-container-id-8 div.sk-item::before, #sk-container-id-8 div.sk-parallel-item::before {content: \"\";position: absolute;border-left: 1px solid gray;box-sizing: border-box;top: 0;bottom: 0;left: 50%;z-index: -1;}#sk-container-id-8 div.sk-parallel-item {display: flex;flex-direction: column;z-index: 1;position: relative;background-color: white;}#sk-container-id-8 div.sk-parallel-item:first-child::after {align-self: flex-end;width: 50%;}#sk-container-id-8 div.sk-parallel-item:last-child::after {align-self: flex-start;width: 50%;}#sk-container-id-8 div.sk-parallel-item:only-child::after {width: 0;}#sk-container-id-8 div.sk-dashed-wrapped {border: 1px dashed gray;margin: 0 0.4em 0.5em 0.4em;box-sizing: border-box;padding-bottom: 0.4em;background-color: white;}#sk-container-id-8 div.sk-label label {font-family: monospace;font-weight: bold;display: inline-block;line-height: 1.2em;}#sk-container-id-8 div.sk-label-container {text-align: center;}#sk-container-id-8 div.sk-container {/* jupyter's `normalize.less` sets `[hidden] { display: none; }` but bootstrap.min.css set `[hidden] { display: none !important; }` so we also need the `!important` here to be able to override the default hidden behavior on the sphinx rendered scikit-learn.org. See: https://github.com/scikit-learn/scikit-learn/issues/21755 */display: inline-block !important;position: relative;}#sk-container-id-8 div.sk-text-repr-fallback {display: none;}</style><div id=\"sk-container-id-8\" class=\"sk-top-container\"><div class=\"sk-text-repr-fallback\"><pre>LGBMClassifier(learning_rate=0.01, max_depth=3, n_estimators=300)</pre><b>In a Jupyter environment, please rerun this cell to show the HTML representation or trust the notebook. <br />On GitHub, the HTML representation is unable to render, please try loading this page with nbviewer.org.</b></div><div class=\"sk-container\" hidden><div class=\"sk-item\"><div class=\"sk-estimator sk-toggleable\"><input class=\"sk-toggleable__control sk-hidden--visually\" id=\"sk-estimator-id-8\" type=\"checkbox\" checked><label for=\"sk-estimator-id-8\" class=\"sk-toggleable__label sk-toggleable__label-arrow\">LGBMClassifier</label><div class=\"sk-toggleable__content\"><pre>LGBMClassifier(learning_rate=0.01, max_depth=3, n_estimators=300)</pre></div></div></div></div></div>"
      ],
      "text/plain": [
       "LGBMClassifier(learning_rate=0.01, max_depth=3, n_estimators=300)"
      ]
     },
     "execution_count": 83,
     "metadata": {},
     "output_type": "execute_result"
    }
   ],
   "source": [
    "LGB = lgb.LGBMClassifier(learning_rate = 0.01, max_depth = 3, n_estimators = 300)\n",
    "LGB.fit(X_train, y_train)"
   ]
  },
  {
   "cell_type": "code",
   "execution_count": 84,
   "metadata": {},
   "outputs": [
    {
     "name": "stdout",
     "output_type": "stream",
     "text": [
      "88.9572192513369\n"
     ]
    }
   ],
   "source": [
    "y_pred = LGB.predict(X_test)\n",
    "acc_score = accuracy_score(y_test, y_pred)\n",
    "print(acc_score*100)"
   ]
  },
  {
   "cell_type": "code",
   "execution_count": 85,
   "metadata": {},
   "outputs": [
    {
     "name": "stdout",
     "output_type": "stream",
     "text": [
      "87.06545568430943\n"
     ]
    }
   ],
   "source": [
    "\n",
    "f1_sco = f1_score(y_test, y_pred)\n",
    "print(f1_sco*100)"
   ]
  },
  {
   "cell_type": "code",
   "execution_count": 86,
   "metadata": {},
   "outputs": [
    {
     "name": "stdout",
     "output_type": "stream",
     "text": [
      "[[1937   98]\n",
      " [ 315 1390]]\n"
     ]
    }
   ],
   "source": [
    "con = confusion_matrix(y_test, y_pred)\n",
    "print(con)"
   ]
  },
  {
   "cell_type": "code",
   "execution_count": 87,
   "metadata": {},
   "outputs": [],
   "source": [
    "clf = classification_report(y_test, y_pred)"
   ]
  },
  {
   "cell_type": "code",
   "execution_count": 88,
   "metadata": {},
   "outputs": [
    {
     "name": "stdout",
     "output_type": "stream",
     "text": [
      "              precision    recall  f1-score   support\n",
      "\n",
      "           0       0.86      0.95      0.90      2035\n",
      "           1       0.93      0.82      0.87      1705\n",
      "\n",
      "    accuracy                           0.89      3740\n",
      "   macro avg       0.90      0.88      0.89      3740\n",
      "weighted avg       0.89      0.89      0.89      3740\n",
      "\n"
     ]
    }
   ],
   "source": [
    "print(clf)"
   ]
  },
  {
   "cell_type": "code",
   "execution_count": 89,
   "metadata": {},
   "outputs": [
    {
     "name": "stdout",
     "output_type": "stream",
     "text": [
      "TPR (Sensitivity/Recall): 81.52492668621701\n",
      "TNR (True Negative Rate/ Specificity): 95.18427518427518\n"
     ]
    }
   ],
   "source": [
    "TN = con[0,0]\n",
    "FP = con[0,1]\n",
    "\n",
    "TNR = (TN / (TN+FP))*100\n",
    "\n",
    "TP = con[1,1]\n",
    "FN = con[1,0]\n",
    "\n",
    "TPR = (TP / (TP + FN))*100\n",
    "\n",
    "\n",
    "\n",
    "\n",
    "print(\"TPR (Sensitivity/Recall):\", TPR)\n",
    "print(\"TNR (True Negative Rate/ Specificity):\", TNR)"
   ]
  },
  {
   "cell_type": "code",
   "execution_count": 90,
   "metadata": {},
   "outputs": [
    {
     "data": {
      "text/html": [
       "<style>#sk-container-id-9 {color: black;background-color: white;}#sk-container-id-9 pre{padding: 0;}#sk-container-id-9 div.sk-toggleable {background-color: white;}#sk-container-id-9 label.sk-toggleable__label {cursor: pointer;display: block;width: 100%;margin-bottom: 0;padding: 0.3em;box-sizing: border-box;text-align: center;}#sk-container-id-9 label.sk-toggleable__label-arrow:before {content: \"▸\";float: left;margin-right: 0.25em;color: #696969;}#sk-container-id-9 label.sk-toggleable__label-arrow:hover:before {color: black;}#sk-container-id-9 div.sk-estimator:hover label.sk-toggleable__label-arrow:before {color: black;}#sk-container-id-9 div.sk-toggleable__content {max-height: 0;max-width: 0;overflow: hidden;text-align: left;background-color: #f0f8ff;}#sk-container-id-9 div.sk-toggleable__content pre {margin: 0.2em;color: black;border-radius: 0.25em;background-color: #f0f8ff;}#sk-container-id-9 input.sk-toggleable__control:checked~div.sk-toggleable__content {max-height: 200px;max-width: 100%;overflow: auto;}#sk-container-id-9 input.sk-toggleable__control:checked~label.sk-toggleable__label-arrow:before {content: \"▾\";}#sk-container-id-9 div.sk-estimator input.sk-toggleable__control:checked~label.sk-toggleable__label {background-color: #d4ebff;}#sk-container-id-9 div.sk-label input.sk-toggleable__control:checked~label.sk-toggleable__label {background-color: #d4ebff;}#sk-container-id-9 input.sk-hidden--visually {border: 0;clip: rect(1px 1px 1px 1px);clip: rect(1px, 1px, 1px, 1px);height: 1px;margin: -1px;overflow: hidden;padding: 0;position: absolute;width: 1px;}#sk-container-id-9 div.sk-estimator {font-family: monospace;background-color: #f0f8ff;border: 1px dotted black;border-radius: 0.25em;box-sizing: border-box;margin-bottom: 0.5em;}#sk-container-id-9 div.sk-estimator:hover {background-color: #d4ebff;}#sk-container-id-9 div.sk-parallel-item::after {content: \"\";width: 100%;border-bottom: 1px solid gray;flex-grow: 1;}#sk-container-id-9 div.sk-label:hover label.sk-toggleable__label {background-color: #d4ebff;}#sk-container-id-9 div.sk-serial::before {content: \"\";position: absolute;border-left: 1px solid gray;box-sizing: border-box;top: 0;bottom: 0;left: 50%;z-index: 0;}#sk-container-id-9 div.sk-serial {display: flex;flex-direction: column;align-items: center;background-color: white;padding-right: 0.2em;padding-left: 0.2em;position: relative;}#sk-container-id-9 div.sk-item {position: relative;z-index: 1;}#sk-container-id-9 div.sk-parallel {display: flex;align-items: stretch;justify-content: center;background-color: white;position: relative;}#sk-container-id-9 div.sk-item::before, #sk-container-id-9 div.sk-parallel-item::before {content: \"\";position: absolute;border-left: 1px solid gray;box-sizing: border-box;top: 0;bottom: 0;left: 50%;z-index: -1;}#sk-container-id-9 div.sk-parallel-item {display: flex;flex-direction: column;z-index: 1;position: relative;background-color: white;}#sk-container-id-9 div.sk-parallel-item:first-child::after {align-self: flex-end;width: 50%;}#sk-container-id-9 div.sk-parallel-item:last-child::after {align-self: flex-start;width: 50%;}#sk-container-id-9 div.sk-parallel-item:only-child::after {width: 0;}#sk-container-id-9 div.sk-dashed-wrapped {border: 1px dashed gray;margin: 0 0.4em 0.5em 0.4em;box-sizing: border-box;padding-bottom: 0.4em;background-color: white;}#sk-container-id-9 div.sk-label label {font-family: monospace;font-weight: bold;display: inline-block;line-height: 1.2em;}#sk-container-id-9 div.sk-label-container {text-align: center;}#sk-container-id-9 div.sk-container {/* jupyter's `normalize.less` sets `[hidden] { display: none; }` but bootstrap.min.css set `[hidden] { display: none !important; }` so we also need the `!important` here to be able to override the default hidden behavior on the sphinx rendered scikit-learn.org. See: https://github.com/scikit-learn/scikit-learn/issues/21755 */display: inline-block !important;position: relative;}#sk-container-id-9 div.sk-text-repr-fallback {display: none;}</style><div id=\"sk-container-id-9\" class=\"sk-top-container\"><div class=\"sk-text-repr-fallback\"><pre>MLPClassifier()</pre><b>In a Jupyter environment, please rerun this cell to show the HTML representation or trust the notebook. <br />On GitHub, the HTML representation is unable to render, please try loading this page with nbviewer.org.</b></div><div class=\"sk-container\" hidden><div class=\"sk-item\"><div class=\"sk-estimator sk-toggleable\"><input class=\"sk-toggleable__control sk-hidden--visually\" id=\"sk-estimator-id-9\" type=\"checkbox\" checked><label for=\"sk-estimator-id-9\" class=\"sk-toggleable__label sk-toggleable__label-arrow\">MLPClassifier</label><div class=\"sk-toggleable__content\"><pre>MLPClassifier()</pre></div></div></div></div></div>"
      ],
      "text/plain": [
       "MLPClassifier()"
      ]
     },
     "execution_count": 90,
     "metadata": {},
     "output_type": "execute_result"
    }
   ],
   "source": [
    "MLP = MLPClassifier()\n",
    "MLP.fit(X_train, y_train)"
   ]
  },
  {
   "cell_type": "code",
   "execution_count": 91,
   "metadata": {},
   "outputs": [
    {
     "name": "stdout",
     "output_type": "stream",
     "text": [
      "88.04812834224599\n"
     ]
    }
   ],
   "source": [
    "y_pred = MLP.predict(X_test)\n",
    "acc_score = accuracy_score(y_test, y_pred)\n",
    "print(acc_score*100)"
   ]
  },
  {
   "cell_type": "code",
   "execution_count": 92,
   "metadata": {},
   "outputs": [
    {
     "name": "stdout",
     "output_type": "stream",
     "text": [
      "86.31772268135906\n"
     ]
    }
   ],
   "source": [
    "\n",
    "f1_sco = f1_score(y_test, y_pred)\n",
    "print(f1_sco*100)"
   ]
  },
  {
   "cell_type": "code",
   "execution_count": 93,
   "metadata": {},
   "outputs": [
    {
     "name": "stdout",
     "output_type": "stream",
     "text": [
      "[[1883  152]\n",
      " [ 295 1410]]\n"
     ]
    }
   ],
   "source": [
    "con = confusion_matrix(y_test, y_pred)\n",
    "print(con)"
   ]
  },
  {
   "cell_type": "code",
   "execution_count": 94,
   "metadata": {},
   "outputs": [],
   "source": [
    "clf = classification_report(y_test, y_pred)"
   ]
  },
  {
   "cell_type": "code",
   "execution_count": 95,
   "metadata": {},
   "outputs": [
    {
     "name": "stdout",
     "output_type": "stream",
     "text": [
      "              precision    recall  f1-score   support\n",
      "\n",
      "           0       0.86      0.93      0.89      2035\n",
      "           1       0.90      0.83      0.86      1705\n",
      "\n",
      "    accuracy                           0.88      3740\n",
      "   macro avg       0.88      0.88      0.88      3740\n",
      "weighted avg       0.88      0.88      0.88      3740\n",
      "\n"
     ]
    }
   ],
   "source": [
    "print(clf)"
   ]
  },
  {
   "cell_type": "code",
   "execution_count": 96,
   "metadata": {},
   "outputs": [
    {
     "name": "stdout",
     "output_type": "stream",
     "text": [
      "TPR (Sensitivity/Recall): 82.69794721407625\n",
      "TNR (True Negative Rate/ Specificity): 92.53071253071253\n"
     ]
    }
   ],
   "source": [
    "TN = con[0,0]\n",
    "FP = con[0,1]\n",
    "\n",
    "TNR = (TN / (TN+FP))*100\n",
    "\n",
    "TP = con[1,1]\n",
    "FN = con[1,0]\n",
    "\n",
    "TPR = (TP / (TP + FN))*100\n",
    "\n",
    "\n",
    "\n",
    "\n",
    "print(\"TPR (Sensitivity/Recall):\", TPR)\n",
    "print(\"TNR (True Negative Rate/ Specificity):\", TNR)"
   ]
  },
  {
   "cell_type": "code",
   "execution_count": 97,
   "metadata": {},
   "outputs": [
    {
     "name": "stderr",
     "output_type": "stream",
     "text": [
      "d:\\Anaconda\\envs\\tf_gpucheck\\lib\\site-packages\\sklearn\\ensemble\\_base.py:166: FutureWarning: `base_estimator` was renamed to `estimator` in version 1.2 and will be removed in 1.4.\n",
      "  warnings.warn(\n"
     ]
    },
    {
     "data": {
      "text/html": [
       "<style>#sk-container-id-10 {color: black;background-color: white;}#sk-container-id-10 pre{padding: 0;}#sk-container-id-10 div.sk-toggleable {background-color: white;}#sk-container-id-10 label.sk-toggleable__label {cursor: pointer;display: block;width: 100%;margin-bottom: 0;padding: 0.3em;box-sizing: border-box;text-align: center;}#sk-container-id-10 label.sk-toggleable__label-arrow:before {content: \"▸\";float: left;margin-right: 0.25em;color: #696969;}#sk-container-id-10 label.sk-toggleable__label-arrow:hover:before {color: black;}#sk-container-id-10 div.sk-estimator:hover label.sk-toggleable__label-arrow:before {color: black;}#sk-container-id-10 div.sk-toggleable__content {max-height: 0;max-width: 0;overflow: hidden;text-align: left;background-color: #f0f8ff;}#sk-container-id-10 div.sk-toggleable__content pre {margin: 0.2em;color: black;border-radius: 0.25em;background-color: #f0f8ff;}#sk-container-id-10 input.sk-toggleable__control:checked~div.sk-toggleable__content {max-height: 200px;max-width: 100%;overflow: auto;}#sk-container-id-10 input.sk-toggleable__control:checked~label.sk-toggleable__label-arrow:before {content: \"▾\";}#sk-container-id-10 div.sk-estimator input.sk-toggleable__control:checked~label.sk-toggleable__label {background-color: #d4ebff;}#sk-container-id-10 div.sk-label input.sk-toggleable__control:checked~label.sk-toggleable__label {background-color: #d4ebff;}#sk-container-id-10 input.sk-hidden--visually {border: 0;clip: rect(1px 1px 1px 1px);clip: rect(1px, 1px, 1px, 1px);height: 1px;margin: -1px;overflow: hidden;padding: 0;position: absolute;width: 1px;}#sk-container-id-10 div.sk-estimator {font-family: monospace;background-color: #f0f8ff;border: 1px dotted black;border-radius: 0.25em;box-sizing: border-box;margin-bottom: 0.5em;}#sk-container-id-10 div.sk-estimator:hover {background-color: #d4ebff;}#sk-container-id-10 div.sk-parallel-item::after {content: \"\";width: 100%;border-bottom: 1px solid gray;flex-grow: 1;}#sk-container-id-10 div.sk-label:hover label.sk-toggleable__label {background-color: #d4ebff;}#sk-container-id-10 div.sk-serial::before {content: \"\";position: absolute;border-left: 1px solid gray;box-sizing: border-box;top: 0;bottom: 0;left: 50%;z-index: 0;}#sk-container-id-10 div.sk-serial {display: flex;flex-direction: column;align-items: center;background-color: white;padding-right: 0.2em;padding-left: 0.2em;position: relative;}#sk-container-id-10 div.sk-item {position: relative;z-index: 1;}#sk-container-id-10 div.sk-parallel {display: flex;align-items: stretch;justify-content: center;background-color: white;position: relative;}#sk-container-id-10 div.sk-item::before, #sk-container-id-10 div.sk-parallel-item::before {content: \"\";position: absolute;border-left: 1px solid gray;box-sizing: border-box;top: 0;bottom: 0;left: 50%;z-index: -1;}#sk-container-id-10 div.sk-parallel-item {display: flex;flex-direction: column;z-index: 1;position: relative;background-color: white;}#sk-container-id-10 div.sk-parallel-item:first-child::after {align-self: flex-end;width: 50%;}#sk-container-id-10 div.sk-parallel-item:last-child::after {align-self: flex-start;width: 50%;}#sk-container-id-10 div.sk-parallel-item:only-child::after {width: 0;}#sk-container-id-10 div.sk-dashed-wrapped {border: 1px dashed gray;margin: 0 0.4em 0.5em 0.4em;box-sizing: border-box;padding-bottom: 0.4em;background-color: white;}#sk-container-id-10 div.sk-label label {font-family: monospace;font-weight: bold;display: inline-block;line-height: 1.2em;}#sk-container-id-10 div.sk-label-container {text-align: center;}#sk-container-id-10 div.sk-container {/* jupyter's `normalize.less` sets `[hidden] { display: none; }` but bootstrap.min.css set `[hidden] { display: none !important; }` so we also need the `!important` here to be able to override the default hidden behavior on the sphinx rendered scikit-learn.org. See: https://github.com/scikit-learn/scikit-learn/issues/21755 */display: inline-block !important;position: relative;}#sk-container-id-10 div.sk-text-repr-fallback {display: none;}</style><div id=\"sk-container-id-10\" class=\"sk-top-container\"><div class=\"sk-text-repr-fallback\"><pre>AdaBoostClassifier(base_estimator=RandomForestClassifier(max_depth=1),\n",
       "                   random_state=42)</pre><b>In a Jupyter environment, please rerun this cell to show the HTML representation or trust the notebook. <br />On GitHub, the HTML representation is unable to render, please try loading this page with nbviewer.org.</b></div><div class=\"sk-container\" hidden><div class=\"sk-item sk-dashed-wrapped\"><div class=\"sk-label-container\"><div class=\"sk-label sk-toggleable\"><input class=\"sk-toggleable__control sk-hidden--visually\" id=\"sk-estimator-id-10\" type=\"checkbox\" ><label for=\"sk-estimator-id-10\" class=\"sk-toggleable__label sk-toggleable__label-arrow\">AdaBoostClassifier</label><div class=\"sk-toggleable__content\"><pre>AdaBoostClassifier(base_estimator=RandomForestClassifier(max_depth=1),\n",
       "                   random_state=42)</pre></div></div></div><div class=\"sk-parallel\"><div class=\"sk-parallel-item\"><div class=\"sk-item\"><div class=\"sk-label-container\"><div class=\"sk-label sk-toggleable\"><input class=\"sk-toggleable__control sk-hidden--visually\" id=\"sk-estimator-id-11\" type=\"checkbox\" ><label for=\"sk-estimator-id-11\" class=\"sk-toggleable__label sk-toggleable__label-arrow\">base_estimator: RandomForestClassifier</label><div class=\"sk-toggleable__content\"><pre>RandomForestClassifier(max_depth=1)</pre></div></div></div><div class=\"sk-serial\"><div class=\"sk-item\"><div class=\"sk-estimator sk-toggleable\"><input class=\"sk-toggleable__control sk-hidden--visually\" id=\"sk-estimator-id-12\" type=\"checkbox\" ><label for=\"sk-estimator-id-12\" class=\"sk-toggleable__label sk-toggleable__label-arrow\">RandomForestClassifier</label><div class=\"sk-toggleable__content\"><pre>RandomForestClassifier(max_depth=1)</pre></div></div></div></div></div></div></div></div></div></div>"
      ],
      "text/plain": [
       "AdaBoostClassifier(base_estimator=RandomForestClassifier(max_depth=1),\n",
       "                   random_state=42)"
      ]
     },
     "execution_count": 97,
     "metadata": {},
     "output_type": "execute_result"
    }
   ],
   "source": [
    "ADA = AdaBoostClassifier(base_estimator=RandomForestClassifier(max_depth=1), n_estimators=50,\n",
    "                               learning_rate=1.0, algorithm='SAMME.R', random_state=42)\n",
    "ADA.fit(X_train, y_train)"
   ]
  },
  {
   "cell_type": "code",
   "execution_count": 98,
   "metadata": {},
   "outputs": [
    {
     "name": "stdout",
     "output_type": "stream",
     "text": [
      "90.93582887700535\n"
     ]
    }
   ],
   "source": [
    "y_pred = ADA.predict(X_test)\n",
    "acc_score = accuracy_score(y_test, y_pred)\n",
    "print(acc_score*100)"
   ]
  },
  {
   "cell_type": "code",
   "execution_count": 99,
   "metadata": {},
   "outputs": [
    {
     "name": "stdout",
     "output_type": "stream",
     "text": [
      "90.14248328002327\n"
     ]
    }
   ],
   "source": [
    "\n",
    "f1_sco = f1_score(y_test, y_pred)\n",
    "print(f1_sco*100)"
   ]
  },
  {
   "cell_type": "code",
   "execution_count": 100,
   "metadata": {},
   "outputs": [
    {
     "name": "stdout",
     "output_type": "stream",
     "text": [
      "[[1851  184]\n",
      " [ 155 1550]]\n"
     ]
    }
   ],
   "source": [
    "con = confusion_matrix(y_test, y_pred)\n",
    "print(con)"
   ]
  },
  {
   "cell_type": "code",
   "execution_count": 101,
   "metadata": {},
   "outputs": [],
   "source": [
    "clf = classification_report(y_test, y_pred)"
   ]
  },
  {
   "cell_type": "code",
   "execution_count": 102,
   "metadata": {},
   "outputs": [
    {
     "name": "stdout",
     "output_type": "stream",
     "text": [
      "              precision    recall  f1-score   support\n",
      "\n",
      "           0       0.92      0.91      0.92      2035\n",
      "           1       0.89      0.91      0.90      1705\n",
      "\n",
      "    accuracy                           0.91      3740\n",
      "   macro avg       0.91      0.91      0.91      3740\n",
      "weighted avg       0.91      0.91      0.91      3740\n",
      "\n"
     ]
    }
   ],
   "source": [
    "print(clf)"
   ]
  },
  {
   "cell_type": "code",
   "execution_count": 103,
   "metadata": {},
   "outputs": [
    {
     "name": "stdout",
     "output_type": "stream",
     "text": [
      "TPR (Sensitivity/Recall): 90.9090909090909\n",
      "TNR (True Negative Rate/ Specificity): 90.95823095823096\n"
     ]
    }
   ],
   "source": [
    "TN = con[0,0]\n",
    "FP = con[0,1]\n",
    "\n",
    "TNR = (TN / (TN+FP))*100\n",
    "\n",
    "TP = con[1,1]\n",
    "FN = con[1,0]\n",
    "\n",
    "TPR = (TP / (TP + FN))*100\n",
    "\n",
    "\n",
    "\n",
    "\n",
    "print(\"TPR (Sensitivity/Recall):\", TPR)\n",
    "print(\"TNR (True Negative Rate/ Specificity):\", TNR)"
   ]
  },
  {
   "cell_type": "code",
   "execution_count": 104,
   "metadata": {},
   "outputs": [
    {
     "data": {
      "text/html": [
       "<style>#sk-container-id-11 {color: black;background-color: white;}#sk-container-id-11 pre{padding: 0;}#sk-container-id-11 div.sk-toggleable {background-color: white;}#sk-container-id-11 label.sk-toggleable__label {cursor: pointer;display: block;width: 100%;margin-bottom: 0;padding: 0.3em;box-sizing: border-box;text-align: center;}#sk-container-id-11 label.sk-toggleable__label-arrow:before {content: \"▸\";float: left;margin-right: 0.25em;color: #696969;}#sk-container-id-11 label.sk-toggleable__label-arrow:hover:before {color: black;}#sk-container-id-11 div.sk-estimator:hover label.sk-toggleable__label-arrow:before {color: black;}#sk-container-id-11 div.sk-toggleable__content {max-height: 0;max-width: 0;overflow: hidden;text-align: left;background-color: #f0f8ff;}#sk-container-id-11 div.sk-toggleable__content pre {margin: 0.2em;color: black;border-radius: 0.25em;background-color: #f0f8ff;}#sk-container-id-11 input.sk-toggleable__control:checked~div.sk-toggleable__content {max-height: 200px;max-width: 100%;overflow: auto;}#sk-container-id-11 input.sk-toggleable__control:checked~label.sk-toggleable__label-arrow:before {content: \"▾\";}#sk-container-id-11 div.sk-estimator input.sk-toggleable__control:checked~label.sk-toggleable__label {background-color: #d4ebff;}#sk-container-id-11 div.sk-label input.sk-toggleable__control:checked~label.sk-toggleable__label {background-color: #d4ebff;}#sk-container-id-11 input.sk-hidden--visually {border: 0;clip: rect(1px 1px 1px 1px);clip: rect(1px, 1px, 1px, 1px);height: 1px;margin: -1px;overflow: hidden;padding: 0;position: absolute;width: 1px;}#sk-container-id-11 div.sk-estimator {font-family: monospace;background-color: #f0f8ff;border: 1px dotted black;border-radius: 0.25em;box-sizing: border-box;margin-bottom: 0.5em;}#sk-container-id-11 div.sk-estimator:hover {background-color: #d4ebff;}#sk-container-id-11 div.sk-parallel-item::after {content: \"\";width: 100%;border-bottom: 1px solid gray;flex-grow: 1;}#sk-container-id-11 div.sk-label:hover label.sk-toggleable__label {background-color: #d4ebff;}#sk-container-id-11 div.sk-serial::before {content: \"\";position: absolute;border-left: 1px solid gray;box-sizing: border-box;top: 0;bottom: 0;left: 50%;z-index: 0;}#sk-container-id-11 div.sk-serial {display: flex;flex-direction: column;align-items: center;background-color: white;padding-right: 0.2em;padding-left: 0.2em;position: relative;}#sk-container-id-11 div.sk-item {position: relative;z-index: 1;}#sk-container-id-11 div.sk-parallel {display: flex;align-items: stretch;justify-content: center;background-color: white;position: relative;}#sk-container-id-11 div.sk-item::before, #sk-container-id-11 div.sk-parallel-item::before {content: \"\";position: absolute;border-left: 1px solid gray;box-sizing: border-box;top: 0;bottom: 0;left: 50%;z-index: -1;}#sk-container-id-11 div.sk-parallel-item {display: flex;flex-direction: column;z-index: 1;position: relative;background-color: white;}#sk-container-id-11 div.sk-parallel-item:first-child::after {align-self: flex-end;width: 50%;}#sk-container-id-11 div.sk-parallel-item:last-child::after {align-self: flex-start;width: 50%;}#sk-container-id-11 div.sk-parallel-item:only-child::after {width: 0;}#sk-container-id-11 div.sk-dashed-wrapped {border: 1px dashed gray;margin: 0 0.4em 0.5em 0.4em;box-sizing: border-box;padding-bottom: 0.4em;background-color: white;}#sk-container-id-11 div.sk-label label {font-family: monospace;font-weight: bold;display: inline-block;line-height: 1.2em;}#sk-container-id-11 div.sk-label-container {text-align: center;}#sk-container-id-11 div.sk-container {/* jupyter's `normalize.less` sets `[hidden] { display: none; }` but bootstrap.min.css set `[hidden] { display: none !important; }` so we also need the `!important` here to be able to override the default hidden behavior on the sphinx rendered scikit-learn.org. See: https://github.com/scikit-learn/scikit-learn/issues/21755 */display: inline-block !important;position: relative;}#sk-container-id-11 div.sk-text-repr-fallback {display: none;}</style><div id=\"sk-container-id-11\" class=\"sk-top-container\"><div class=\"sk-text-repr-fallback\"><pre>QuadraticDiscriminantAnalysis()</pre><b>In a Jupyter environment, please rerun this cell to show the HTML representation or trust the notebook. <br />On GitHub, the HTML representation is unable to render, please try loading this page with nbviewer.org.</b></div><div class=\"sk-container\" hidden><div class=\"sk-item\"><div class=\"sk-estimator sk-toggleable\"><input class=\"sk-toggleable__control sk-hidden--visually\" id=\"sk-estimator-id-13\" type=\"checkbox\" checked><label for=\"sk-estimator-id-13\" class=\"sk-toggleable__label sk-toggleable__label-arrow\">QuadraticDiscriminantAnalysis</label><div class=\"sk-toggleable__content\"><pre>QuadraticDiscriminantAnalysis()</pre></div></div></div></div></div>"
      ],
      "text/plain": [
       "QuadraticDiscriminantAnalysis()"
      ]
     },
     "execution_count": 104,
     "metadata": {},
     "output_type": "execute_result"
    }
   ],
   "source": [
    "qda = QuadraticDiscriminantAnalysis()\n",
    "qda.fit(X_train, y_train)"
   ]
  },
  {
   "cell_type": "code",
   "execution_count": 105,
   "metadata": {},
   "outputs": [
    {
     "name": "stdout",
     "output_type": "stream",
     "text": [
      "86.0427807486631\n"
     ]
    }
   ],
   "source": [
    "y_pred = qda.predict(X_test)\n",
    "acc_score = accuracy_score(y_test, y_pred)\n",
    "print(acc_score*100)"
   ]
  },
  {
   "cell_type": "code",
   "execution_count": 106,
   "metadata": {},
   "outputs": [
    {
     "name": "stdout",
     "output_type": "stream",
     "text": [
      "83.98773006134971\n"
     ]
    }
   ],
   "source": [
    "\n",
    "f1_sco = f1_score(y_test, y_pred)\n",
    "print(f1_sco*100)"
   ]
  },
  {
   "cell_type": "code",
   "execution_count": 107,
   "metadata": {},
   "outputs": [
    {
     "name": "stdout",
     "output_type": "stream",
     "text": [
      "[[1849  186]\n",
      " [ 336 1369]]\n"
     ]
    }
   ],
   "source": [
    "con = confusion_matrix(y_test, y_pred)\n",
    "print(con)"
   ]
  },
  {
   "cell_type": "code",
   "execution_count": 108,
   "metadata": {},
   "outputs": [],
   "source": [
    "clf = classification_report(y_test, y_pred)"
   ]
  },
  {
   "cell_type": "code",
   "execution_count": 109,
   "metadata": {},
   "outputs": [
    {
     "name": "stdout",
     "output_type": "stream",
     "text": [
      "              precision    recall  f1-score   support\n",
      "\n",
      "           0       0.85      0.91      0.88      2035\n",
      "           1       0.88      0.80      0.84      1705\n",
      "\n",
      "    accuracy                           0.86      3740\n",
      "   macro avg       0.86      0.86      0.86      3740\n",
      "weighted avg       0.86      0.86      0.86      3740\n",
      "\n"
     ]
    }
   ],
   "source": [
    "print(clf)"
   ]
  },
  {
   "cell_type": "code",
   "execution_count": 110,
   "metadata": {},
   "outputs": [
    {
     "name": "stdout",
     "output_type": "stream",
     "text": [
      "TPR (Sensitivity/Recall): 80.29325513196481\n",
      "TNR (True Negative Rate/ Specificity): 90.85995085995086\n"
     ]
    }
   ],
   "source": [
    "TN = con[0,0]\n",
    "FP = con[0,1]\n",
    "\n",
    "TNR = (TN / (TN+FP))*100\n",
    "\n",
    "TP = con[1,1]\n",
    "FN = con[1,0]\n",
    "\n",
    "TPR = (TP / (TP + FN))*100\n",
    "\n",
    "\n",
    "\n",
    "\n",
    "print(\"TPR (Sensitivity/Recall):\", TPR)\n",
    "print(\"TNR (True Negative Rate/ Specificity):\", TNR)"
   ]
  },
  {
   "attachments": {},
   "cell_type": "markdown",
   "metadata": {},
   "source": [
    "KFOLD"
   ]
  },
  {
   "cell_type": "code",
   "execution_count": 141,
   "metadata": {},
   "outputs": [
    {
     "name": "stdout",
     "output_type": "stream",
     "text": [
      "Average Accuracy: 87.79%\n",
      "Average F1 Score: 0.86\n",
      "Average Confusion Matrix:\n",
      "[[9140 1060]\n",
      " [1223 7277]]\n",
      "Average Classification Report:\n",
      "              precision    recall  f1-score   support\n",
      "\n",
      "           0       0.88      0.91      0.90      1016\n",
      "           1       0.89      0.86      0.87       854\n",
      "\n",
      "    accuracy                           0.89      1870\n",
      "   macro avg       0.89      0.88      0.88      1870\n",
      "weighted avg       0.89      0.89      0.89      1870\n",
      "\n"
     ]
    }
   ],
   "source": [
    "kfold = KFold(n_splits=10, shuffle=True, random_state=42)\n",
    "\n",
    "# Create a Logistic Regression model\n",
    "model = LogisticRegression()\n",
    "\n",
    "\n",
    "accuracy_scores = []\n",
    "f1_scores = []\n",
    "confusion_matrices = []\n",
    "classification_reports = []\n",
    "\n",
    "for train_index, test_index in kfold.split(Inputs):\n",
    "    X_train, X_test = Inputs.iloc[train_index], Inputs.iloc[test_index]\n",
    "    y_train, y_test = targets.iloc[train_index], targets.iloc[test_index]\n",
    "\n",
    "    # Train the model on the training set\n",
    "    model.fit(X_train, y_train)\n",
    "\n",
    "    # Make predictions on the test set\n",
    "    y_pred = model.predict(X_test)\n",
    "\n",
    "    # Calculate accuracy score\n",
    "    accuracy = accuracy_score(y_test, y_pred)\n",
    "    accuracy_scores.append(accuracy)\n",
    "    \n",
    "    f1 = f1_score(y_test, y_pred)\n",
    "    f1_scores.append(f1)\n",
    "\n",
    "    # Calculate confusion matrix\n",
    "    cm = confusion_matrix(y_test, y_pred)\n",
    "    confusion_matrices.append(cm)\n",
    "    #Calculate Classification report\n",
    "    report = classification_report(y_test, y_pred, output_dict=True)\n",
    "\n",
    "    # Append the classification report to the list\n",
    "    classification_reports.append(report)\n",
    "\n",
    "    \n",
    "\n",
    "# Print the average accuracy score\n",
    "print(\"Average Accuracy: %.2f%%\" % (sum(accuracy_scores) / len(accuracy_scores) * 100))\n",
    "print(\"Average F1 Score: %.2f\" % (sum(f1_scores) / len(f1_scores)))\n",
    "print(\"Average Confusion Matrix:\")\n",
    "print(sum(confusion_matrices))\n",
    "# Print the classification reports for each fold\n",
    "avg_classification_report = {\n",
    "    'precision': np.mean([report['macro avg']['precision'] for report in classification_reports]),\n",
    "    'recall': np.mean([report['macro avg']['recall'] for report in classification_reports]),\n",
    "    'f1-score': np.mean([report['macro avg']['f1-score'] for report in classification_reports]),\n",
    "    'support': np.mean([report['macro avg']['support'] for report in classification_reports])\n",
    "}\n",
    "\n",
    "# Print the average classification report\n",
    "print(\"Average Classification Report:\")\n",
    "print(classification_report(y_test, y_pred))\n",
    "\n"
   ]
  },
  {
   "cell_type": "code",
   "execution_count": 142,
   "metadata": {},
   "outputs": [
    {
     "name": "stdout",
     "output_type": "stream",
     "text": [
      "TPR (Sensitivity/Recall): 85.61176470588235\n",
      "TNR (True Negative Rate/ Specificity): 89.6078431372549\n"
     ]
    }
   ],
   "source": [
    "con = sum(confusion_matrices)\n",
    "TN = con[0,0]\n",
    "FP = con[0,1]\n",
    "\n",
    "TNR = (TN / (TN+FP))*100\n",
    "\n",
    "TP = con[1,1]\n",
    "FN = con[1,0]\n",
    "\n",
    "TPR = (TP / (TP + FN))*100\n",
    "\n",
    "\n",
    "\n",
    "\n",
    "print(\"TPR (Sensitivity/Recall):\", TPR)\n",
    "print(\"TNR (True Negative Rate/ Specificity):\", TNR)"
   ]
  },
  {
   "cell_type": "code",
   "execution_count": 143,
   "metadata": {},
   "outputs": [
    {
     "name": "stdout",
     "output_type": "stream",
     "text": [
      "Average Accuracy: 86.55%\n",
      "Average F1 Score: 0.85\n",
      "Average Confusion Matrix:\n",
      "[[9317  883]\n",
      " [1633 6867]]\n",
      "Average Classification Report:\n",
      "              precision    recall  f1-score   support\n",
      "\n",
      "           0       0.85      0.92      0.88      1016\n",
      "           1       0.90      0.81      0.85       854\n",
      "\n",
      "    accuracy                           0.87      1870\n",
      "   macro avg       0.87      0.86      0.87      1870\n",
      "weighted avg       0.87      0.87      0.87      1870\n",
      "\n"
     ]
    }
   ],
   "source": [
    "NB = GaussianNB()\n",
    "\n",
    "\n",
    "accuracy_scores = []\n",
    "f1_scores = []\n",
    "confusion_matrices = []\n",
    "classification_reports = []\n",
    "\n",
    "for train_index, test_index in kfold.split(Inputs):\n",
    "    X_train, X_test = Inputs.iloc[train_index], Inputs.iloc[test_index]\n",
    "    y_train, y_test = targets.iloc[train_index], targets.iloc[test_index]\n",
    "\n",
    "    # Train the model on the training set\n",
    "    NB.fit(X_train, y_train)\n",
    "\n",
    "    # Make predictions on the test set\n",
    "    y_pred = NB.predict(X_test)\n",
    "\n",
    "    # Calculate accuracy score\n",
    "    accuracy = accuracy_score(y_test, y_pred)\n",
    "    accuracy_scores.append(accuracy)\n",
    "    \n",
    "    f1 = f1_score(y_test, y_pred)\n",
    "    f1_scores.append(f1)\n",
    "\n",
    "    # Calculate confusion matrix\n",
    "    cm = confusion_matrix(y_test, y_pred)\n",
    "    confusion_matrices.append(cm)\n",
    "        #Calculate Classification report\n",
    "    report = classification_report(y_test, y_pred, output_dict=True)\n",
    "\n",
    "    # Append the classification report to the list\n",
    "    classification_reports.append(report)\n",
    "\n",
    "# Print the average accuracy score\n",
    "print(\"Average Accuracy: %.2f%%\" % (sum(accuracy_scores) / len(accuracy_scores) * 100))\n",
    "print(\"Average F1 Score: %.2f\" % (sum(f1_scores) / len(f1_scores)))\n",
    "print(\"Average Confusion Matrix:\")\n",
    "print(sum(confusion_matrices))\n",
    "# Print the AVERAGE classification report\n",
    "avg_classification_report = {\n",
    "    'precision': np.mean([report['macro avg']['precision'] for report in classification_reports]),\n",
    "    'recall': np.mean([report['macro avg']['recall'] for report in classification_reports]),\n",
    "    'f1-score': np.mean([report['macro avg']['f1-score'] for report in classification_reports]),\n",
    "    'support': np.mean([report['macro avg']['support'] for report in classification_reports])\n",
    "}\n",
    "\n",
    "# Print the average classification report\n",
    "print(\"Average Classification Report:\")\n",
    "print(classification_report(y_test, y_pred))\n"
   ]
  },
  {
   "cell_type": "code",
   "execution_count": 144,
   "metadata": {},
   "outputs": [
    {
     "name": "stdout",
     "output_type": "stream",
     "text": [
      "TPR (Sensitivity/Recall): 80.78823529411765\n",
      "TNR (True Negative Rate/ Specificity): 91.34313725490196\n"
     ]
    }
   ],
   "source": [
    "con = sum(confusion_matrices)\n",
    "TN = con[0,0]\n",
    "FP = con[0,1]\n",
    "\n",
    "TNR = (TN / (TN+FP))*100\n",
    "\n",
    "TP = con[1,1]\n",
    "FN = con[1,0]\n",
    "\n",
    "TPR = (TP / (TP + FN))*100\n",
    "\n",
    "\n",
    "\n",
    "\n",
    "print(\"TPR (Sensitivity/Recall):\", TPR)\n",
    "print(\"TNR (True Negative Rate/ Specificity):\", TNR)"
   ]
  },
  {
   "cell_type": "code",
   "execution_count": 145,
   "metadata": {},
   "outputs": [
    {
     "name": "stdout",
     "output_type": "stream",
     "text": [
      "Average Accuracy: 87.05%\n",
      "Average F1 Score: 0.86\n",
      "Average Confusion Matrix:\n",
      "[[8875 1325]\n",
      " [1096 7404]]\n",
      "Average Classification Report:\n",
      "              precision    recall  f1-score   support\n",
      "\n",
      "           0       0.88      0.87      0.88      1016\n",
      "           1       0.85      0.86      0.85       854\n",
      "\n",
      "    accuracy                           0.87      1870\n",
      "   macro avg       0.86      0.87      0.86      1870\n",
      "weighted avg       0.87      0.87      0.87      1870\n",
      "\n"
     ]
    }
   ],
   "source": [
    "svc = SVC()\n",
    "\n",
    "\n",
    "accuracy_scores = []\n",
    "f1_scores = []\n",
    "confusion_matrices = []\n",
    "classification_reports = []\n",
    "\n",
    "\n",
    "\n",
    "for train_index, test_index in kfold.split(Inputs):\n",
    "    X_train, X_test = Inputs.iloc[train_index], Inputs.iloc[test_index]\n",
    "    y_train, y_test = targets.iloc[train_index], targets.iloc[test_index]\n",
    "\n",
    "    # Train the model on the training set\n",
    "    svc.fit(X_train, y_train)\n",
    "\n",
    "    # Make predictions on the test set\n",
    "    y_pred = svc.predict(X_test)\n",
    "\n",
    "    # Calculate accuracy score\n",
    "    accuracy = accuracy_score(y_test, y_pred)\n",
    "    accuracy_scores.append(accuracy)\n",
    "    \n",
    "    f1 = f1_score(y_test, y_pred)\n",
    "    f1_scores.append(f1)\n",
    "\n",
    "    # Calculate confusion matrix\n",
    "    cm = confusion_matrix(y_test, y_pred)\n",
    "    confusion_matrices.append(cm)\n",
    "         #Calculate Classification report\n",
    "    report = classification_report(y_test, y_pred, output_dict=True)\n",
    "\n",
    "    # Append the classification report to the list\n",
    "    classification_reports.append(report)\n",
    "\n",
    "\n",
    "# Print the average accuracy score\n",
    "print(\"Average Accuracy: %.2f%%\" % (sum(accuracy_scores) / len(accuracy_scores) * 100))\n",
    "print(\"Average F1 Score: %.2f\" % (sum(f1_scores) / len(f1_scores)))\n",
    "print(\"Average Confusion Matrix:\")\n",
    "print(sum(confusion_matrices))\n",
    "# Print the AVERAGE classification report\n",
    "avg_classification_report = {\n",
    "    'precision': np.mean([report['macro avg']['precision'] for report in classification_reports]),\n",
    "    'recall': np.mean([report['macro avg']['recall'] for report in classification_reports]),\n",
    "    'f1-score': np.mean([report['macro avg']['f1-score'] for report in classification_reports]),\n",
    "    'support': np.mean([report['macro avg']['support'] for report in classification_reports])\n",
    "}\n",
    "\n",
    "# Print the average classification report\n",
    "print(\"Average Classification Report:\")\n",
    "print(classification_report(y_test, y_pred))\n"
   ]
  },
  {
   "cell_type": "code",
   "execution_count": 146,
   "metadata": {},
   "outputs": [
    {
     "name": "stdout",
     "output_type": "stream",
     "text": [
      "TPR (Sensitivity/Recall): 87.10588235294118\n",
      "TNR (True Negative Rate/ Specificity): 87.00980392156863\n"
     ]
    }
   ],
   "source": [
    "con = sum(confusion_matrices)\n",
    "TN = con[0,0]\n",
    "FP = con[0,1]\n",
    "\n",
    "TNR = (TN / (TN+FP))*100\n",
    "\n",
    "TP = con[1,1]\n",
    "FN = con[1,0]\n",
    "\n",
    "TPR = (TP / (TP + FN))*100\n",
    "\n",
    "\n",
    "\n",
    "\n",
    "print(\"TPR (Sensitivity/Recall):\", TPR)\n",
    "print(\"TNR (True Negative Rate/ Specificity):\", TNR)"
   ]
  },
  {
   "cell_type": "code",
   "execution_count": 147,
   "metadata": {},
   "outputs": [
    {
     "name": "stdout",
     "output_type": "stream",
     "text": [
      "Average Accuracy: 89.05%\n",
      "Average F1 Score: 0.88\n",
      "Average Confusion Matrix:\n",
      "[[9189 1011]\n",
      " [1037 7463]]\n",
      "Average Classification Report:\n",
      "              precision    recall  f1-score   support\n",
      "\n",
      "           0       0.91      0.89      0.90      1016\n",
      "           1       0.88      0.89      0.88       854\n",
      "\n",
      "    accuracy                           0.89      1870\n",
      "   macro avg       0.89      0.89      0.89      1870\n",
      "weighted avg       0.89      0.89      0.89      1870\n",
      "\n"
     ]
    }
   ],
   "source": [
    "RDF = RandomForestClassifier()\n",
    "\n",
    "\n",
    "accuracy_scores = []\n",
    "f1_scores = []\n",
    "confusion_matrices = []\n",
    "classification_reports = []\n",
    "\n",
    "\n",
    "for train_index, test_index in kfold.split(Inputs):\n",
    "    X_train, X_test = Inputs.iloc[train_index], Inputs.iloc[test_index]\n",
    "    y_train, y_test = targets.iloc[train_index], targets.iloc[test_index]\n",
    "\n",
    "    # Train the model on the training set\n",
    "    RDF.fit(X_train, y_train)\n",
    "\n",
    "    # Make predictions on the test set\n",
    "    y_pred = RDF.predict(X_test)\n",
    "\n",
    "    # Calculate accuracy score\n",
    "    accuracy = accuracy_score(y_test, y_pred)\n",
    "    accuracy_scores.append(accuracy)\n",
    "    \n",
    "    f1 = f1_score(y_test, y_pred)\n",
    "    f1_scores.append(f1)\n",
    "\n",
    "    # Calculate confusion matrix\n",
    "    cm = confusion_matrix(y_test, y_pred)\n",
    "    confusion_matrices.append(cm)\n",
    "    #Calculate Classification report\n",
    "    report = classification_report(y_test, y_pred, output_dict=True)\n",
    "\n",
    "    # Append the classification report to the list\n",
    "    classification_reports.append(report)\n",
    "\n",
    "\n",
    "# Print the average accuracy score\n",
    "print(\"Average Accuracy: %.2f%%\" % (sum(accuracy_scores) / len(accuracy_scores) * 100))\n",
    "print(\"Average F1 Score: %.2f\" % (sum(f1_scores) / len(f1_scores)))\n",
    "print(\"Average Confusion Matrix:\")\n",
    "print(sum(confusion_matrices))\n",
    "# Print the AVERAGE classification report\n",
    "avg_classification_report = {\n",
    "    'precision': np.mean([report['macro avg']['precision'] for report in classification_reports]),\n",
    "    'recall': np.mean([report['macro avg']['recall'] for report in classification_reports]),\n",
    "    'f1-score': np.mean([report['macro avg']['f1-score'] for report in classification_reports]),\n",
    "    'support': np.mean([report['macro avg']['support'] for report in classification_reports])\n",
    "}\n",
    "\n",
    "# Print the average classification report\n",
    "print(\"Average Classification Report:\")\n",
    "print(classification_report(y_test, y_pred))\n"
   ]
  },
  {
   "cell_type": "code",
   "execution_count": 148,
   "metadata": {},
   "outputs": [
    {
     "name": "stdout",
     "output_type": "stream",
     "text": [
      "TPR (Sensitivity/Recall): 87.8\n",
      "TNR (True Negative Rate/ Specificity): 90.08823529411765\n"
     ]
    }
   ],
   "source": [
    "con = sum(confusion_matrices)\n",
    "TN = con[0,0]\n",
    "FP = con[0,1]\n",
    "\n",
    "TNR = (TN / (TN+FP))*100\n",
    "\n",
    "TP = con[1,1]\n",
    "FN = con[1,0]\n",
    "\n",
    "TPR = (TP / (TP + FN))*100\n",
    "\n",
    "\n",
    "\n",
    "\n",
    "print(\"TPR (Sensitivity/Recall):\", TPR)\n",
    "print(\"TNR (True Negative Rate/ Specificity):\", TNR)"
   ]
  },
  {
   "cell_type": "code",
   "execution_count": 149,
   "metadata": {},
   "outputs": [
    {
     "name": "stdout",
     "output_type": "stream",
     "text": [
      "Average Accuracy: 87.30%\n",
      "Average F1 Score: 0.86\n",
      "Average Confusion Matrix:\n",
      "[[9041 1159]\n",
      " [1216 7284]]\n",
      "Average Classification Report:\n",
      "              precision    recall  f1-score   support\n",
      "\n",
      "           0       0.89      0.87      0.88      1016\n",
      "           1       0.85      0.87      0.86       854\n",
      "\n",
      "    accuracy                           0.87      1870\n",
      "   macro avg       0.87      0.87      0.87      1870\n",
      "weighted avg       0.87      0.87      0.87      1870\n",
      "\n"
     ]
    }
   ],
   "source": [
    "DTS = DecisionTreeClassifier()\n",
    "\n",
    "\n",
    "accuracy_scores = []\n",
    "f1_scores = []\n",
    "confusion_matrices = []\n",
    "classification_reports = []\n",
    "\n",
    "for train_index, test_index in kfold.split(Inputs):\n",
    "    X_train, X_test = Inputs.iloc[train_index], Inputs.iloc[test_index]\n",
    "    y_train, y_test = targets.iloc[train_index], targets.iloc[test_index]\n",
    "\n",
    "    # Train the model on the training set\n",
    "    DTS.fit(X_train, y_train)\n",
    "\n",
    "    # Make predictions on the test set\n",
    "    y_pred = DTS.predict(X_test)\n",
    "\n",
    "    # Calculate accuracy score\n",
    "    accuracy = accuracy_score(y_test, y_pred)\n",
    "    accuracy_scores.append(accuracy)\n",
    "    \n",
    "    f1 = f1_score(y_test, y_pred)\n",
    "    f1_scores.append(f1)\n",
    "\n",
    "    # Calculate confusion matrix\n",
    "    cm = confusion_matrix(y_test, y_pred)\n",
    "    confusion_matrices.append(cm)\n",
    "    #Calculate Classification report\n",
    "    report = classification_report(y_test, y_pred, output_dict=True)\n",
    "\n",
    "    # Append the classification report to the list\n",
    "    classification_reports.append(report)\n",
    "\n",
    "\n",
    "# Print the average accuracy score\n",
    "print(\"Average Accuracy: %.2f%%\" % (sum(accuracy_scores) / len(accuracy_scores) * 100))\n",
    "print(\"Average F1 Score: %.2f\" % (sum(f1_scores) / len(f1_scores)))\n",
    "print(\"Average Confusion Matrix:\")\n",
    "print(sum(confusion_matrices))\n",
    "# Print the AVERAGE classification report\n",
    "avg_classification_report = {\n",
    "    'precision': np.mean([report['macro avg']['precision'] for report in classification_reports]),\n",
    "    'recall': np.mean([report['macro avg']['recall'] for report in classification_reports]),\n",
    "    'f1-score': np.mean([report['macro avg']['f1-score'] for report in classification_reports]),\n",
    "    'support': np.mean([report['macro avg']['support'] for report in classification_reports])\n",
    "}\n",
    "\n",
    "# Print the average classification report\n",
    "print(\"Average Classification Report:\")\n",
    "print(classification_report(y_test, y_pred))"
   ]
  },
  {
   "cell_type": "code",
   "execution_count": 150,
   "metadata": {},
   "outputs": [
    {
     "name": "stdout",
     "output_type": "stream",
     "text": [
      "TPR (Sensitivity/Recall): 85.69411764705882\n",
      "TNR (True Negative Rate/ Specificity): 88.63725490196079\n"
     ]
    }
   ],
   "source": [
    "con = sum(confusion_matrices)\n",
    "TN = con[0,0]\n",
    "FP = con[0,1]\n",
    "\n",
    "TNR = (TN / (TN+FP))*100\n",
    "\n",
    "TP = con[1,1]\n",
    "FN = con[1,0]\n",
    "\n",
    "TPR = (TP / (TP + FN))*100\n",
    "\n",
    "\n",
    "\n",
    "\n",
    "print(\"TPR (Sensitivity/Recall):\", TPR)\n",
    "print(\"TNR (True Negative Rate/ Specificity):\", TNR)"
   ]
  },
  {
   "cell_type": "code",
   "execution_count": 151,
   "metadata": {},
   "outputs": [
    {
     "name": "stdout",
     "output_type": "stream",
     "text": [
      "Average Accuracy: 89.24%\n",
      "Average F1 Score: 0.88\n",
      "Average Confusion Matrix:\n",
      "[[9498  702]\n",
      " [1311 7189]]\n",
      "Average Classification Report:\n",
      "              precision    recall  f1-score   support\n",
      "\n",
      "           0       0.92      0.89      0.91      1016\n",
      "           1       0.88      0.91      0.89       854\n",
      "\n",
      "    accuracy                           0.90      1870\n",
      "   macro avg       0.90      0.90      0.90      1870\n",
      "weighted avg       0.90      0.90      0.90      1870\n",
      "\n"
     ]
    }
   ],
   "source": [
    "XGB = xgb.XGBClassifier(learning_rate = 0.01, max_depth = 3, n_estimators = 300)\n",
    "\n",
    "\n",
    "accuracy_scores = []\n",
    "f1_scores = []\n",
    "confusion_matrices = []\n",
    "classification_reports = []\n",
    "for train_index, test_index in kfold.split(Inputs):\n",
    "    X_train, X_test = Inputs.iloc[train_index], Inputs.iloc[test_index]\n",
    "    y_train, y_test = targets.iloc[train_index], targets.iloc[test_index]\n",
    "\n",
    "    # Train the model on the training set\n",
    "    XGB.fit(X_train, y_train)\n",
    "\n",
    "    # Make predictions on the test set\n",
    "    y_pred = XGB.predict(X_test)\n",
    "\n",
    "    # Calculate accuracy score\n",
    "    accuracy = accuracy_score(y_test, y_pred)\n",
    "    accuracy_scores.append(accuracy)\n",
    "    \n",
    "    f1 = f1_score(y_test, y_pred)\n",
    "    f1_scores.append(f1)\n",
    "\n",
    "    # Calculate confusion matrix\n",
    "    cm = confusion_matrix(y_test, y_pred)\n",
    "    confusion_matrices.append(cm)\n",
    "     #Calculate Classification report\n",
    "    report = classification_report(y_test, y_pred, output_dict=True)\n",
    "\n",
    "    # Append the classification report to the list\n",
    "    classification_reports.append(report)\n",
    "\n",
    "\n",
    "# Print the average accuracy score\n",
    "print(\"Average Accuracy: %.2f%%\" % (sum(accuracy_scores) / len(accuracy_scores) * 100))\n",
    "print(\"Average F1 Score: %.2f\" % (sum(f1_scores) / len(f1_scores)))\n",
    "print(\"Average Confusion Matrix:\")\n",
    "print(sum(confusion_matrices))\n",
    "# Print the AVERAGE classification report\n",
    "avg_classification_report = {\n",
    "    'precision': np.mean([report['macro avg']['precision'] for report in classification_reports]),\n",
    "    'recall': np.mean([report['macro avg']['recall'] for report in classification_reports]),\n",
    "    'f1-score': np.mean([report['macro avg']['f1-score'] for report in classification_reports]),\n",
    "    'support': np.mean([report['macro avg']['support'] for report in classification_reports])\n",
    "}\n",
    "\n",
    "# Print the average classification report\n",
    "print(\"Average Classification Report:\")\n",
    "print(classification_report(y_test, y_pred))"
   ]
  },
  {
   "cell_type": "code",
   "execution_count": 152,
   "metadata": {},
   "outputs": [
    {
     "name": "stdout",
     "output_type": "stream",
     "text": [
      "TPR (Sensitivity/Recall): 84.5764705882353\n",
      "TNR (True Negative Rate/ Specificity): 93.11764705882352\n"
     ]
    }
   ],
   "source": [
    "con = sum(confusion_matrices)\n",
    "TN = con[0,0]\n",
    "FP = con[0,1]\n",
    "\n",
    "TNR = (TN / (TN+FP))*100\n",
    "\n",
    "TP = con[1,1]\n",
    "FN = con[1,0]\n",
    "\n",
    "TPR = (TP / (TP + FN))*100\n",
    "\n",
    "\n",
    "\n",
    "\n",
    "print(\"TPR (Sensitivity/Recall):\", TPR)\n",
    "print(\"TNR (True Negative Rate/ Specificity):\", TNR)"
   ]
  },
  {
   "cell_type": "code",
   "execution_count": 153,
   "metadata": {},
   "outputs": [
    {
     "name": "stdout",
     "output_type": "stream",
     "text": [
      "Average Accuracy: 89.23%\n",
      "Average F1 Score: 0.88\n",
      "Average Confusion Matrix:\n",
      "[[9560  640]\n",
      " [1374 7126]]\n",
      "Average Classification Report:\n",
      "              precision    recall  f1-score   support\n",
      "\n",
      "           0       0.87      0.95      0.91      1016\n",
      "           1       0.94      0.83      0.88       854\n",
      "\n",
      "    accuracy                           0.90      1870\n",
      "   macro avg       0.91      0.89      0.90      1870\n",
      "weighted avg       0.90      0.90      0.90      1870\n",
      "\n"
     ]
    }
   ],
   "source": [
    "LGB = lgb.LGBMClassifier(learning_rate = 0.01, max_depth = 3, n_estimators = 300)\n",
    "\n",
    "\n",
    "accuracy_scores = []\n",
    "f1_scores = []\n",
    "confusion_matrices = []\n",
    "classification_reports = []\n",
    "for train_index, test_index in kfold.split(Inputs):\n",
    "    X_train, X_test = Inputs.iloc[train_index], Inputs.iloc[test_index]\n",
    "    y_train, y_test = targets.iloc[train_index], targets.iloc[test_index]\n",
    "\n",
    "    # Train the model on the training set\n",
    "    LGB.fit(X_train, y_train)\n",
    "\n",
    "    # Make predictions on the test set\n",
    "    y_pred = LGB.predict(X_test)\n",
    "\n",
    "    # Calculate accuracy score\n",
    "    accuracy = accuracy_score(y_test, y_pred)\n",
    "    accuracy_scores.append(accuracy)\n",
    "    \n",
    "    f1 = f1_score(y_test, y_pred)\n",
    "    f1_scores.append(f1)\n",
    "\n",
    "    # Calculate confusion matrix\n",
    "    cm = confusion_matrix(y_test, y_pred)\n",
    "    confusion_matrices.append(cm)\n",
    "     #Calculate Classification report\n",
    "    report = classification_report(y_test, y_pred, output_dict=True)\n",
    "\n",
    "    # Append the classification report to the list\n",
    "    classification_reports.append(report)\n",
    "\n",
    "\n",
    "# Print the average accuracy score\n",
    "print(\"Average Accuracy: %.2f%%\" % (sum(accuracy_scores) / len(accuracy_scores) * 100))\n",
    "print(\"Average F1 Score: %.2f\" % (sum(f1_scores) / len(f1_scores)))\n",
    "print(\"Average Confusion Matrix:\")\n",
    "print(sum(confusion_matrices))\n",
    "# Print the AVERAGE classification report\n",
    "avg_classification_report = {\n",
    "    'precision': np.mean([report['macro avg']['precision'] for report in classification_reports]),\n",
    "    'recall': np.mean([report['macro avg']['recall'] for report in classification_reports]),\n",
    "    'f1-score': np.mean([report['macro avg']['f1-score'] for report in classification_reports]),\n",
    "    'support': np.mean([report['macro avg']['support'] for report in classification_reports])\n",
    "}\n",
    "\n",
    "# Print the average classification report\n",
    "print(\"Average Classification Report:\")\n",
    "print(classification_report(y_test, y_pred))"
   ]
  },
  {
   "cell_type": "code",
   "execution_count": 154,
   "metadata": {},
   "outputs": [
    {
     "name": "stdout",
     "output_type": "stream",
     "text": [
      "TPR (Sensitivity/Recall): 83.83529411764707\n",
      "TNR (True Negative Rate/ Specificity): 93.72549019607843\n"
     ]
    }
   ],
   "source": [
    "con = sum(confusion_matrices)\n",
    "TN = con[0,0]\n",
    "FP = con[0,1]\n",
    "\n",
    "TNR = (TN / (TN+FP))*100\n",
    "\n",
    "TP = con[1,1]\n",
    "FN = con[1,0]\n",
    "\n",
    "TPR = (TP / (TP + FN))*100\n",
    "\n",
    "\n",
    "\n",
    "\n",
    "print(\"TPR (Sensitivity/Recall):\", TPR)\n",
    "print(\"TNR (True Negative Rate/ Specificity):\", TNR)"
   ]
  },
  {
   "cell_type": "code",
   "execution_count": 155,
   "metadata": {},
   "outputs": [
    {
     "name": "stdout",
     "output_type": "stream",
     "text": [
      "Average Accuracy: 87.76%\n",
      "Average F1 Score: 0.86\n",
      "Average Confusion Matrix:\n",
      "[[9090 1110]\n",
      " [1178 7322]]\n",
      "Average Classification Report:\n",
      "              precision    recall  f1-score   support\n",
      "\n",
      "           0       0.85      0.95      0.89      1016\n",
      "           1       0.93      0.80      0.86       854\n",
      "\n",
      "    accuracy                           0.88      1870\n",
      "   macro avg       0.89      0.87      0.88      1870\n",
      "weighted avg       0.88      0.88      0.88      1870\n",
      "\n"
     ]
    }
   ],
   "source": [
    "MLP = MLPClassifier()\n",
    "\n",
    "\n",
    "accuracy_scores = []\n",
    "f1_scores = []\n",
    "confusion_matrices = []\n",
    "classification_reports = []\n",
    "\n",
    "for train_index, test_index in kfold.split(Inputs):\n",
    "    X_train, X_test = Inputs.iloc[train_index], Inputs.iloc[test_index]\n",
    "    y_train, y_test = targets.iloc[train_index], targets.iloc[test_index]\n",
    "\n",
    "    # Train the model on the training set\n",
    "    MLP.fit(X_train, y_train)\n",
    "\n",
    "    # Make predictions on the test set\n",
    "    y_pred = MLP.predict(X_test)\n",
    "\n",
    "    # Calculate accuracy score\n",
    "    accuracy = accuracy_score(y_test, y_pred)\n",
    "    accuracy_scores.append(accuracy)\n",
    "    \n",
    "    f1 = f1_score(y_test, y_pred)\n",
    "    f1_scores.append(f1)\n",
    "\n",
    "    # Calculate confusion matrix\n",
    "    cm = confusion_matrix(y_test, y_pred)\n",
    "    confusion_matrices.append(cm)\n",
    "     #Calculate Classification report\n",
    "    report = classification_report(y_test, y_pred, output_dict=True)\n",
    "\n",
    "    # Append the classification report to the list\n",
    "    classification_reports.append(report)\n",
    "# Print the average accuracy score\n",
    "print(\"Average Accuracy: %.2f%%\" % (sum(accuracy_scores) / len(accuracy_scores) * 100))\n",
    "print(\"Average F1 Score: %.2f\" % (sum(f1_scores) / len(f1_scores)))\n",
    "print(\"Average Confusion Matrix:\")\n",
    "print(sum(confusion_matrices))\n",
    "# Print the AVERAGE classification report\n",
    "avg_classification_report = {\n",
    "    'precision': np.mean([report['macro avg']['precision'] for report in classification_reports]),\n",
    "    'recall': np.mean([report['macro avg']['recall'] for report in classification_reports]),\n",
    "    'f1-score': np.mean([report['macro avg']['f1-score'] for report in classification_reports]),\n",
    "    'support': np.mean([report['macro avg']['support'] for report in classification_reports])\n",
    "}\n",
    "\n",
    "# Print the average classification report\n",
    "print(\"Average Classification Report:\")\n",
    "print(classification_report(y_test, y_pred))"
   ]
  },
  {
   "cell_type": "code",
   "execution_count": 156,
   "metadata": {},
   "outputs": [
    {
     "name": "stdout",
     "output_type": "stream",
     "text": [
      "TPR (Sensitivity/Recall): 86.14117647058823\n",
      "TNR (True Negative Rate/ Specificity): 89.11764705882354\n"
     ]
    }
   ],
   "source": [
    "con = sum(confusion_matrices)\n",
    "TN = con[0,0]\n",
    "FP = con[0,1]\n",
    "\n",
    "TNR = (TN / (TN+FP))*100\n",
    "\n",
    "TP = con[1,1]\n",
    "FN = con[1,0]\n",
    "\n",
    "TPR = (TP / (TP + FN))*100\n",
    "\n",
    "\n",
    "\n",
    "\n",
    "print(\"TPR (Sensitivity/Recall):\", TPR)\n",
    "print(\"TNR (True Negative Rate/ Specificity):\", TNR)"
   ]
  },
  {
   "cell_type": "code",
   "execution_count": 157,
   "metadata": {},
   "outputs": [
    {
     "name": "stdout",
     "output_type": "stream",
     "text": [
      "Average Accuracy: 90.64%\n",
      "Average F1 Score: 0.90\n",
      "Average Confusion Matrix:\n",
      "[[9167 1033]\n",
      " [ 718 7782]]\n",
      "Average Classification Report:\n",
      "              precision    recall  f1-score   support\n",
      "\n",
      "           0       0.93      0.90      0.91      1016\n",
      "           1       0.88      0.91      0.90       854\n",
      "\n",
      "    accuracy                           0.91      1870\n",
      "   macro avg       0.91      0.91      0.91      1870\n",
      "weighted avg       0.91      0.91      0.91      1870\n",
      "\n"
     ]
    }
   ],
   "source": [
    "ADA = AdaBoostClassifier()\n",
    "\n",
    "\n",
    "accuracy_scores = []\n",
    "f1_scores = []\n",
    "confusion_matrices = []\n",
    "classification_reports = []\n",
    "for train_index, test_index in kfold.split(Inputs):\n",
    "    X_train, X_test = Inputs.iloc[train_index], Inputs.iloc[test_index]\n",
    "    y_train, y_test = targets.iloc[train_index], targets.iloc[test_index]\n",
    "\n",
    "    # Train the model on the training set\n",
    "    ADA.fit(X_train, y_train)\n",
    "\n",
    "    # Make predictions on the test set\n",
    "    y_pred = ADA.predict(X_test)\n",
    "\n",
    "    # Calculate accuracy score\n",
    "    accuracy = accuracy_score(y_test, y_pred)\n",
    "    accuracy_scores.append(accuracy)\n",
    "    \n",
    "    f1 = f1_score(y_test, y_pred)\n",
    "    f1_scores.append(f1)\n",
    "\n",
    "    # Calculate confusion matrix\n",
    "    cm = confusion_matrix(y_test, y_pred)\n",
    "    confusion_matrices.append(cm)\n",
    "    #Calculate Classification report\n",
    "    report = classification_report(y_test, y_pred, output_dict=True)\n",
    "\n",
    "    # Append the classification report to the list\n",
    "    classification_reports.append(report)\n",
    "\n",
    "# Print the average accuracy score\n",
    "print(\"Average Accuracy: %.2f%%\" % (sum(accuracy_scores) / len(accuracy_scores) * 100))\n",
    "print(\"Average F1 Score: %.2f\" % (sum(f1_scores) / len(f1_scores)))\n",
    "print(\"Average Confusion Matrix:\")\n",
    "print(sum(confusion_matrices))\n",
    "# Print the AVERAGE classification report\n",
    "avg_classification_report = {\n",
    "    'precision': np.mean([report['macro avg']['precision'] for report in classification_reports]),\n",
    "    'recall': np.mean([report['macro avg']['recall'] for report in classification_reports]),\n",
    "    'f1-score': np.mean([report['macro avg']['f1-score'] for report in classification_reports]),\n",
    "    'support': np.mean([report['macro avg']['support'] for report in classification_reports])\n",
    "}\n",
    "\n",
    "# Print the average classification report\n",
    "print(\"Average Classification Report:\")\n",
    "print(classification_report(y_test, y_pred))"
   ]
  },
  {
   "cell_type": "code",
   "execution_count": 158,
   "metadata": {},
   "outputs": [
    {
     "name": "stdout",
     "output_type": "stream",
     "text": [
      "TPR (Sensitivity/Recall): 91.5529411764706\n",
      "TNR (True Negative Rate/ Specificity): 89.87254901960785\n"
     ]
    }
   ],
   "source": [
    "con = sum(confusion_matrices)\n",
    "TN = con[0,0]\n",
    "FP = con[0,1]\n",
    "\n",
    "TNR = (TN / (TN+FP))*100\n",
    "\n",
    "TP = con[1,1]\n",
    "FN = con[1,0]\n",
    "\n",
    "TPR = (TP / (TP + FN))*100\n",
    "\n",
    "\n",
    "\n",
    "\n",
    "print(\"TPR (Sensitivity/Recall):\", TPR)\n",
    "print(\"TNR (True Negative Rate/ Specificity):\", TNR)"
   ]
  },
  {
   "cell_type": "code",
   "execution_count": 159,
   "metadata": {},
   "outputs": [
    {
     "name": "stdout",
     "output_type": "stream",
     "text": [
      "Average Accuracy: 85.82%\n",
      "Average F1 Score: 0.84\n",
      "Average Confusion Matrix:\n",
      "[[9230  970]\n",
      " [1682 6818]]\n",
      "Average Classification Report:\n",
      "              precision    recall  f1-score   support\n",
      "\n",
      "           0       0.84      0.91      0.88      1016\n",
      "           1       0.88      0.80      0.84       854\n",
      "\n",
      "    accuracy                           0.86      1870\n",
      "   macro avg       0.86      0.86      0.86      1870\n",
      "weighted avg       0.86      0.86      0.86      1870\n",
      "\n"
     ]
    }
   ],
   "source": [
    "qda = QuadraticDiscriminantAnalysis()\n",
    "\n",
    "\n",
    "accuracy_scores = []\n",
    "f1_scores = []\n",
    "confusion_matrices = []\n",
    "classification_reports = []\n",
    "\n",
    "for train_index, test_index in kfold.split(Inputs):\n",
    "    X_train, X_test = Inputs.iloc[train_index], Inputs.iloc[test_index]\n",
    "    y_train, y_test = targets.iloc[train_index], targets.iloc[test_index]\n",
    "\n",
    "    # Train the model on the training set\n",
    "    qda.fit(X_train, y_train)\n",
    "\n",
    "    # Make predictions on the test set\n",
    "    y_pred = qda.predict(X_test)\n",
    "\n",
    "    # Calculate accuracy score\n",
    "    accuracy = accuracy_score(y_test, y_pred)\n",
    "    accuracy_scores.append(accuracy)\n",
    "    \n",
    "    f1 = f1_score(y_test, y_pred)\n",
    "    f1_scores.append(f1)\n",
    "\n",
    "    # Calculate confusion matrix\n",
    "    cm = confusion_matrix(y_test, y_pred)\n",
    "    confusion_matrices.append(cm)\n",
    "    #Calculate Classification report\n",
    "    report = classification_report(y_test, y_pred, output_dict=True)\n",
    "\n",
    "    # Append the classification report to the list\n",
    "    classification_reports.append(report)\n",
    "\n",
    "# Print the average accuracy score\n",
    "print(\"Average Accuracy: %.2f%%\" % (sum(accuracy_scores) / len(accuracy_scores) * 100))\n",
    "print(\"Average F1 Score: %.2f\" % (sum(f1_scores) / len(f1_scores)))\n",
    "print(\"Average Confusion Matrix:\")\n",
    "print(sum(confusion_matrices))\n",
    "# Print the AVERAGE classification report\n",
    "avg_classification_report = {\n",
    "    'precision': np.mean([report['macro avg']['precision'] for report in classification_reports]),\n",
    "    'recall': np.mean([report['macro avg']['recall'] for report in classification_reports]),\n",
    "    'f1-score': np.mean([report['macro avg']['f1-score'] for report in classification_reports]),\n",
    "    'support': np.mean([report['macro avg']['support'] for report in classification_reports])\n",
    "}\n",
    "\n",
    "# Print the average classification report\n",
    "print(\"Average Classification Report:\")\n",
    "print(classification_report(y_test, y_pred))"
   ]
  },
  {
   "cell_type": "code",
   "execution_count": 160,
   "metadata": {},
   "outputs": [
    {
     "name": "stdout",
     "output_type": "stream",
     "text": [
      "TPR (Sensitivity/Recall): 80.21176470588235\n",
      "TNR (True Negative Rate/ Specificity): 90.49019607843137\n"
     ]
    }
   ],
   "source": [
    "con = sum(confusion_matrices)\n",
    "TN = con[0,0]\n",
    "FP = con[0,1]\n",
    "\n",
    "TNR = (TN / (TN+FP))*100\n",
    "\n",
    "TP = con[1,1]\n",
    "FN = con[1,0]\n",
    "\n",
    "TPR = (TP / (TP + FN))*100\n",
    "\n",
    "\n",
    "\n",
    "\n",
    "print(\"TPR (Sensitivity/Recall):\", TPR)\n",
    "print(\"TNR (True Negative Rate/ Specificity):\", TNR)"
   ]
  },
  {
   "cell_type": "code",
   "execution_count": 161,
   "metadata": {},
   "outputs": [],
   "source": [
    "pickle.dump(ADA,open( 'ada_trained_model.pkl', 'wb'))"
   ]
  },
  {
   "attachments": {},
   "cell_type": "markdown",
   "metadata": {},
   "source": [
    "Application phase"
   ]
  },
  {
   "attachments": {},
   "cell_type": "markdown",
   "metadata": {},
   "source": [
    "From the above trained models we can see that our AdaClassifier gives us more accuracy and f1_score, so we will use it in Application Phase"
   ]
  },
  {
   "cell_type": "code",
   "execution_count": 9,
   "metadata": {},
   "outputs": [],
   "source": [
    "blood_glucose_level = float(input(\"Enter blood glucose level: \"))\n",
    "hba1c_level = float(input(\"Enter HbA1c level: \"))\n",
    "age = float(input(\"Enter age: \"))\n",
    "bmi = float(input(\"Enter BMI: \"))"
   ]
  },
  {
   "cell_type": "code",
   "execution_count": 10,
   "metadata": {},
   "outputs": [
    {
     "name": "stdout",
     "output_type": "stream",
     "text": [
      "\n",
      "\n",
      "User Input Feature Vector:\n",
      "==========================\n",
      "\n",
      "   blood_glucose_level  HbA1c_level   age   bmi\n",
      "0                160.0          7.7  56.0  27.0\n"
     ]
    }
   ],
   "source": [
    "user_input = pd.DataFrame({'blood_glucose_level':[blood_glucose_level], 'HbA1c_level':[hba1c_level], 'age':[age], 'bmi':[bmi]})\n",
    "print(\"\\n\\nUser Input Feature Vector:\")\n",
    "print(\"==========================\\n\")\n",
    "print(user_input)"
   ]
  },
  {
   "cell_type": "code",
   "execution_count": 11,
   "metadata": {},
   "outputs": [],
   "source": [
    "\n",
    "model = pickle.load(open('ada_trained_model.pkl', 'rb'))"
   ]
  },
  {
   "cell_type": "code",
   "execution_count": 12,
   "metadata": {},
   "outputs": [
    {
     "name": "stdout",
     "output_type": "stream",
     "text": [
      "+--------------------------------+\n",
      "|        ** Prediction **        |\n",
      "+--------------------------------+\n",
      "|            Diabetic            |\n",
      "+--------------------------------+\n"
     ]
    }
   ],
   "source": [
    "# Make a Prediction on Unseen Data\n",
    "\n",
    "from prettytable import PrettyTable \n",
    "\n",
    "\n",
    "predicted_diabetic = model.predict(user_input)\n",
    "\n",
    "if(predicted_diabetic == 1): \n",
    "    prediction = \"Diabetic\"\n",
    "if(predicted_diabetic == 0):\n",
    "    prediction = \"NO Diabetes\"\n",
    "\n",
    "# Add the Prediction in a Pretty Table\n",
    "\n",
    "pretty_table = PrettyTable()\n",
    "pretty_table.add_column(\"       ** Prediction **       \",[prediction])\n",
    "print(pretty_table)"
   ]
  }
 ],
 "metadata": {
  "kernelspec": {
   "display_name": "tf_gpucheck",
   "language": "python",
   "name": "python3"
  },
  "language_info": {
   "codemirror_mode": {
    "name": "ipython",
    "version": 3
   },
   "file_extension": ".py",
   "mimetype": "text/x-python",
   "name": "python",
   "nbconvert_exporter": "python",
   "pygments_lexer": "ipython3",
   "version": "3.9.16"
  },
  "orig_nbformat": 4
 },
 "nbformat": 4,
 "nbformat_minor": 2
}
